{
 "cells": [
  {
   "cell_type": "markdown",
   "id": "cab8702a",
   "metadata": {},
   "source": [
    "# Forecast the CoCaCola Sales data set. Prepare a document for each model explaining how many dummy variables you have created and RMSE value for each model. Finally which model you will use for Forecasting."
   ]
  },
  {
   "cell_type": "code",
   "execution_count": 1,
   "id": "d059244f",
   "metadata": {},
   "outputs": [],
   "source": [
    "import numpy as np\n",
    "import pandas as pd\n",
    "import matplotlib.pyplot as plt\n",
    "%matplotlib inline\n",
    "import seaborn as sns\n",
    "import warnings\n",
    "warnings.filterwarnings(\"ignore\")"
   ]
  },
  {
   "cell_type": "code",
   "execution_count": 2,
   "id": "6a47db2a",
   "metadata": {},
   "outputs": [],
   "source": [
    "data = pd.read_excel(\"CocaCola_Sales_Rawdata.xlsx\")"
   ]
  },
  {
   "cell_type": "code",
   "execution_count": 3,
   "id": "9cd1d5ff",
   "metadata": {},
   "outputs": [
    {
     "data": {
      "text/html": [
       "<div>\n",
       "<style scoped>\n",
       "    .dataframe tbody tr th:only-of-type {\n",
       "        vertical-align: middle;\n",
       "    }\n",
       "\n",
       "    .dataframe tbody tr th {\n",
       "        vertical-align: top;\n",
       "    }\n",
       "\n",
       "    .dataframe thead th {\n",
       "        text-align: right;\n",
       "    }\n",
       "</style>\n",
       "<table border=\"1\" class=\"dataframe\">\n",
       "  <thead>\n",
       "    <tr style=\"text-align: right;\">\n",
       "      <th></th>\n",
       "      <th>Quarter</th>\n",
       "      <th>Sales</th>\n",
       "    </tr>\n",
       "  </thead>\n",
       "  <tbody>\n",
       "    <tr>\n",
       "      <th>0</th>\n",
       "      <td>Q1_86</td>\n",
       "      <td>1734.827000</td>\n",
       "    </tr>\n",
       "    <tr>\n",
       "      <th>1</th>\n",
       "      <td>Q2_86</td>\n",
       "      <td>2244.960999</td>\n",
       "    </tr>\n",
       "    <tr>\n",
       "      <th>2</th>\n",
       "      <td>Q3_86</td>\n",
       "      <td>2533.804993</td>\n",
       "    </tr>\n",
       "    <tr>\n",
       "      <th>3</th>\n",
       "      <td>Q4_86</td>\n",
       "      <td>2154.962997</td>\n",
       "    </tr>\n",
       "    <tr>\n",
       "      <th>4</th>\n",
       "      <td>Q1_87</td>\n",
       "      <td>1547.818996</td>\n",
       "    </tr>\n",
       "    <tr>\n",
       "      <th>5</th>\n",
       "      <td>Q2_87</td>\n",
       "      <td>2104.411995</td>\n",
       "    </tr>\n",
       "    <tr>\n",
       "      <th>6</th>\n",
       "      <td>Q3_87</td>\n",
       "      <td>2014.362999</td>\n",
       "    </tr>\n",
       "    <tr>\n",
       "      <th>7</th>\n",
       "      <td>Q4_87</td>\n",
       "      <td>1991.746998</td>\n",
       "    </tr>\n",
       "    <tr>\n",
       "      <th>8</th>\n",
       "      <td>Q1_88</td>\n",
       "      <td>1869.049999</td>\n",
       "    </tr>\n",
       "    <tr>\n",
       "      <th>9</th>\n",
       "      <td>Q2_88</td>\n",
       "      <td>2313.631996</td>\n",
       "    </tr>\n",
       "    <tr>\n",
       "      <th>10</th>\n",
       "      <td>Q3_88</td>\n",
       "      <td>2128.320000</td>\n",
       "    </tr>\n",
       "    <tr>\n",
       "      <th>11</th>\n",
       "      <td>Q4_88</td>\n",
       "      <td>2026.828999</td>\n",
       "    </tr>\n",
       "    <tr>\n",
       "      <th>12</th>\n",
       "      <td>Q1_89</td>\n",
       "      <td>1910.603996</td>\n",
       "    </tr>\n",
       "    <tr>\n",
       "      <th>13</th>\n",
       "      <td>Q2_89</td>\n",
       "      <td>2331.164993</td>\n",
       "    </tr>\n",
       "    <tr>\n",
       "      <th>14</th>\n",
       "      <td>Q3_89</td>\n",
       "      <td>2206.549995</td>\n",
       "    </tr>\n",
       "    <tr>\n",
       "      <th>15</th>\n",
       "      <td>Q4_89</td>\n",
       "      <td>2173.967995</td>\n",
       "    </tr>\n",
       "    <tr>\n",
       "      <th>16</th>\n",
       "      <td>Q1_90</td>\n",
       "      <td>2148.278000</td>\n",
       "    </tr>\n",
       "    <tr>\n",
       "      <th>17</th>\n",
       "      <td>Q2_90</td>\n",
       "      <td>2739.307999</td>\n",
       "    </tr>\n",
       "    <tr>\n",
       "      <th>18</th>\n",
       "      <td>Q3_90</td>\n",
       "      <td>2792.753998</td>\n",
       "    </tr>\n",
       "    <tr>\n",
       "      <th>19</th>\n",
       "      <td>Q4_90</td>\n",
       "      <td>2556.009995</td>\n",
       "    </tr>\n",
       "    <tr>\n",
       "      <th>20</th>\n",
       "      <td>Q1_91</td>\n",
       "      <td>2480.973999</td>\n",
       "    </tr>\n",
       "    <tr>\n",
       "      <th>21</th>\n",
       "      <td>Q2_91</td>\n",
       "      <td>3039.522995</td>\n",
       "    </tr>\n",
       "    <tr>\n",
       "      <th>22</th>\n",
       "      <td>Q3_91</td>\n",
       "      <td>3172.115997</td>\n",
       "    </tr>\n",
       "    <tr>\n",
       "      <th>23</th>\n",
       "      <td>Q4_91</td>\n",
       "      <td>2879.000999</td>\n",
       "    </tr>\n",
       "    <tr>\n",
       "      <th>24</th>\n",
       "      <td>Q1_92</td>\n",
       "      <td>2772.000000</td>\n",
       "    </tr>\n",
       "    <tr>\n",
       "      <th>25</th>\n",
       "      <td>Q2_92</td>\n",
       "      <td>3550.000000</td>\n",
       "    </tr>\n",
       "    <tr>\n",
       "      <th>26</th>\n",
       "      <td>Q3_92</td>\n",
       "      <td>3508.000000</td>\n",
       "    </tr>\n",
       "    <tr>\n",
       "      <th>27</th>\n",
       "      <td>Q4_92</td>\n",
       "      <td>3243.859993</td>\n",
       "    </tr>\n",
       "    <tr>\n",
       "      <th>28</th>\n",
       "      <td>Q1_93</td>\n",
       "      <td>3056.000000</td>\n",
       "    </tr>\n",
       "    <tr>\n",
       "      <th>29</th>\n",
       "      <td>Q2_93</td>\n",
       "      <td>3899.000000</td>\n",
       "    </tr>\n",
       "    <tr>\n",
       "      <th>30</th>\n",
       "      <td>Q3_93</td>\n",
       "      <td>3629.000000</td>\n",
       "    </tr>\n",
       "    <tr>\n",
       "      <th>31</th>\n",
       "      <td>Q4_93</td>\n",
       "      <td>3373.000000</td>\n",
       "    </tr>\n",
       "    <tr>\n",
       "      <th>32</th>\n",
       "      <td>Q1_94</td>\n",
       "      <td>3352.000000</td>\n",
       "    </tr>\n",
       "    <tr>\n",
       "      <th>33</th>\n",
       "      <td>Q2_94</td>\n",
       "      <td>4342.000000</td>\n",
       "    </tr>\n",
       "    <tr>\n",
       "      <th>34</th>\n",
       "      <td>Q3_94</td>\n",
       "      <td>4461.000000</td>\n",
       "    </tr>\n",
       "    <tr>\n",
       "      <th>35</th>\n",
       "      <td>Q4_94</td>\n",
       "      <td>4017.000000</td>\n",
       "    </tr>\n",
       "    <tr>\n",
       "      <th>36</th>\n",
       "      <td>Q1_95</td>\n",
       "      <td>3854.000000</td>\n",
       "    </tr>\n",
       "    <tr>\n",
       "      <th>37</th>\n",
       "      <td>Q2_95</td>\n",
       "      <td>4936.000000</td>\n",
       "    </tr>\n",
       "    <tr>\n",
       "      <th>38</th>\n",
       "      <td>Q3_95</td>\n",
       "      <td>4895.000000</td>\n",
       "    </tr>\n",
       "    <tr>\n",
       "      <th>39</th>\n",
       "      <td>Q4_95</td>\n",
       "      <td>4333.000000</td>\n",
       "    </tr>\n",
       "    <tr>\n",
       "      <th>40</th>\n",
       "      <td>Q1_96</td>\n",
       "      <td>4194.000000</td>\n",
       "    </tr>\n",
       "    <tr>\n",
       "      <th>41</th>\n",
       "      <td>Q2_96</td>\n",
       "      <td>5253.000000</td>\n",
       "    </tr>\n",
       "  </tbody>\n",
       "</table>\n",
       "</div>"
      ],
      "text/plain": [
       "   Quarter        Sales\n",
       "0    Q1_86  1734.827000\n",
       "1    Q2_86  2244.960999\n",
       "2    Q3_86  2533.804993\n",
       "3    Q4_86  2154.962997\n",
       "4    Q1_87  1547.818996\n",
       "5    Q2_87  2104.411995\n",
       "6    Q3_87  2014.362999\n",
       "7    Q4_87  1991.746998\n",
       "8    Q1_88  1869.049999\n",
       "9    Q2_88  2313.631996\n",
       "10   Q3_88  2128.320000\n",
       "11   Q4_88  2026.828999\n",
       "12   Q1_89  1910.603996\n",
       "13   Q2_89  2331.164993\n",
       "14   Q3_89  2206.549995\n",
       "15   Q4_89  2173.967995\n",
       "16   Q1_90  2148.278000\n",
       "17   Q2_90  2739.307999\n",
       "18   Q3_90  2792.753998\n",
       "19   Q4_90  2556.009995\n",
       "20   Q1_91  2480.973999\n",
       "21   Q2_91  3039.522995\n",
       "22   Q3_91  3172.115997\n",
       "23   Q4_91  2879.000999\n",
       "24   Q1_92  2772.000000\n",
       "25   Q2_92  3550.000000\n",
       "26   Q3_92  3508.000000\n",
       "27   Q4_92  3243.859993\n",
       "28   Q1_93  3056.000000\n",
       "29   Q2_93  3899.000000\n",
       "30   Q3_93  3629.000000\n",
       "31   Q4_93  3373.000000\n",
       "32   Q1_94  3352.000000\n",
       "33   Q2_94  4342.000000\n",
       "34   Q3_94  4461.000000\n",
       "35   Q4_94  4017.000000\n",
       "36   Q1_95  3854.000000\n",
       "37   Q2_95  4936.000000\n",
       "38   Q3_95  4895.000000\n",
       "39   Q4_95  4333.000000\n",
       "40   Q1_96  4194.000000\n",
       "41   Q2_96  5253.000000"
      ]
     },
     "execution_count": 3,
     "metadata": {},
     "output_type": "execute_result"
    }
   ],
   "source": [
    "data"
   ]
  },
  {
   "cell_type": "markdown",
   "id": "2d7bfc5e",
   "metadata": {},
   "source": [
    "# EDA"
   ]
  },
  {
   "cell_type": "code",
   "execution_count": 4,
   "id": "09d4e38b",
   "metadata": {},
   "outputs": [
    {
     "name": "stdout",
     "output_type": "stream",
     "text": [
      "<class 'pandas.core.frame.DataFrame'>\n",
      "RangeIndex: 42 entries, 0 to 41\n",
      "Data columns (total 2 columns):\n",
      " #   Column   Non-Null Count  Dtype  \n",
      "---  ------   --------------  -----  \n",
      " 0   Quarter  42 non-null     object \n",
      " 1   Sales    42 non-null     float64\n",
      "dtypes: float64(1), object(1)\n",
      "memory usage: 800.0+ bytes\n"
     ]
    }
   ],
   "source": [
    "data.info()"
   ]
  },
  {
   "cell_type": "code",
   "execution_count": 5,
   "id": "ddb5e80a",
   "metadata": {},
   "outputs": [
    {
     "data": {
      "text/plain": [
       "Quarter    0\n",
       "Sales      0\n",
       "dtype: int64"
      ]
     },
     "execution_count": 5,
     "metadata": {},
     "output_type": "execute_result"
    }
   ],
   "source": [
    "data.isnull().sum()"
   ]
  },
  {
   "cell_type": "code",
   "execution_count": 6,
   "id": "4fac0386",
   "metadata": {},
   "outputs": [
    {
     "data": {
      "text/plain": [
       "0"
      ]
     },
     "execution_count": 6,
     "metadata": {},
     "output_type": "execute_result"
    }
   ],
   "source": [
    "data.duplicated().sum()"
   ]
  },
  {
   "cell_type": "code",
   "execution_count": 7,
   "id": "d2c8c95d",
   "metadata": {},
   "outputs": [
    {
     "data": {
      "text/html": [
       "<div>\n",
       "<style scoped>\n",
       "    .dataframe tbody tr th:only-of-type {\n",
       "        vertical-align: middle;\n",
       "    }\n",
       "\n",
       "    .dataframe tbody tr th {\n",
       "        vertical-align: top;\n",
       "    }\n",
       "\n",
       "    .dataframe thead th {\n",
       "        text-align: right;\n",
       "    }\n",
       "</style>\n",
       "<table border=\"1\" class=\"dataframe\">\n",
       "  <thead>\n",
       "    <tr style=\"text-align: right;\">\n",
       "      <th></th>\n",
       "      <th>Quarter</th>\n",
       "      <th>Sales</th>\n",
       "      <th>Quarter_Year</th>\n",
       "    </tr>\n",
       "  </thead>\n",
       "  <tbody>\n",
       "    <tr>\n",
       "      <th>0</th>\n",
       "      <td>Q1_86</td>\n",
       "      <td>1734.827000</td>\n",
       "      <td>Q1 1986</td>\n",
       "    </tr>\n",
       "    <tr>\n",
       "      <th>1</th>\n",
       "      <td>Q2_86</td>\n",
       "      <td>2244.960999</td>\n",
       "      <td>Q2 1986</td>\n",
       "    </tr>\n",
       "    <tr>\n",
       "      <th>2</th>\n",
       "      <td>Q3_86</td>\n",
       "      <td>2533.804993</td>\n",
       "      <td>Q3 1986</td>\n",
       "    </tr>\n",
       "    <tr>\n",
       "      <th>3</th>\n",
       "      <td>Q4_86</td>\n",
       "      <td>2154.962997</td>\n",
       "      <td>Q4 1986</td>\n",
       "    </tr>\n",
       "    <tr>\n",
       "      <th>4</th>\n",
       "      <td>Q1_87</td>\n",
       "      <td>1547.818996</td>\n",
       "      <td>Q1 1987</td>\n",
       "    </tr>\n",
       "    <tr>\n",
       "      <th>5</th>\n",
       "      <td>Q2_87</td>\n",
       "      <td>2104.411995</td>\n",
       "      <td>Q2 1987</td>\n",
       "    </tr>\n",
       "    <tr>\n",
       "      <th>6</th>\n",
       "      <td>Q3_87</td>\n",
       "      <td>2014.362999</td>\n",
       "      <td>Q3 1987</td>\n",
       "    </tr>\n",
       "    <tr>\n",
       "      <th>7</th>\n",
       "      <td>Q4_87</td>\n",
       "      <td>1991.746998</td>\n",
       "      <td>Q4 1987</td>\n",
       "    </tr>\n",
       "    <tr>\n",
       "      <th>8</th>\n",
       "      <td>Q1_88</td>\n",
       "      <td>1869.049999</td>\n",
       "      <td>Q1 1988</td>\n",
       "    </tr>\n",
       "    <tr>\n",
       "      <th>9</th>\n",
       "      <td>Q2_88</td>\n",
       "      <td>2313.631996</td>\n",
       "      <td>Q2 1988</td>\n",
       "    </tr>\n",
       "    <tr>\n",
       "      <th>10</th>\n",
       "      <td>Q3_88</td>\n",
       "      <td>2128.320000</td>\n",
       "      <td>Q3 1988</td>\n",
       "    </tr>\n",
       "    <tr>\n",
       "      <th>11</th>\n",
       "      <td>Q4_88</td>\n",
       "      <td>2026.828999</td>\n",
       "      <td>Q4 1988</td>\n",
       "    </tr>\n",
       "    <tr>\n",
       "      <th>12</th>\n",
       "      <td>Q1_89</td>\n",
       "      <td>1910.603996</td>\n",
       "      <td>Q1 1989</td>\n",
       "    </tr>\n",
       "    <tr>\n",
       "      <th>13</th>\n",
       "      <td>Q2_89</td>\n",
       "      <td>2331.164993</td>\n",
       "      <td>Q2 1989</td>\n",
       "    </tr>\n",
       "    <tr>\n",
       "      <th>14</th>\n",
       "      <td>Q3_89</td>\n",
       "      <td>2206.549995</td>\n",
       "      <td>Q3 1989</td>\n",
       "    </tr>\n",
       "    <tr>\n",
       "      <th>15</th>\n",
       "      <td>Q4_89</td>\n",
       "      <td>2173.967995</td>\n",
       "      <td>Q4 1989</td>\n",
       "    </tr>\n",
       "    <tr>\n",
       "      <th>16</th>\n",
       "      <td>Q1_90</td>\n",
       "      <td>2148.278000</td>\n",
       "      <td>Q1 1990</td>\n",
       "    </tr>\n",
       "    <tr>\n",
       "      <th>17</th>\n",
       "      <td>Q2_90</td>\n",
       "      <td>2739.307999</td>\n",
       "      <td>Q2 1990</td>\n",
       "    </tr>\n",
       "    <tr>\n",
       "      <th>18</th>\n",
       "      <td>Q3_90</td>\n",
       "      <td>2792.753998</td>\n",
       "      <td>Q3 1990</td>\n",
       "    </tr>\n",
       "    <tr>\n",
       "      <th>19</th>\n",
       "      <td>Q4_90</td>\n",
       "      <td>2556.009995</td>\n",
       "      <td>Q4 1990</td>\n",
       "    </tr>\n",
       "    <tr>\n",
       "      <th>20</th>\n",
       "      <td>Q1_91</td>\n",
       "      <td>2480.973999</td>\n",
       "      <td>Q1 1991</td>\n",
       "    </tr>\n",
       "    <tr>\n",
       "      <th>21</th>\n",
       "      <td>Q2_91</td>\n",
       "      <td>3039.522995</td>\n",
       "      <td>Q2 1991</td>\n",
       "    </tr>\n",
       "    <tr>\n",
       "      <th>22</th>\n",
       "      <td>Q3_91</td>\n",
       "      <td>3172.115997</td>\n",
       "      <td>Q3 1991</td>\n",
       "    </tr>\n",
       "    <tr>\n",
       "      <th>23</th>\n",
       "      <td>Q4_91</td>\n",
       "      <td>2879.000999</td>\n",
       "      <td>Q4 1991</td>\n",
       "    </tr>\n",
       "    <tr>\n",
       "      <th>24</th>\n",
       "      <td>Q1_92</td>\n",
       "      <td>2772.000000</td>\n",
       "      <td>Q1 1992</td>\n",
       "    </tr>\n",
       "    <tr>\n",
       "      <th>25</th>\n",
       "      <td>Q2_92</td>\n",
       "      <td>3550.000000</td>\n",
       "      <td>Q2 1992</td>\n",
       "    </tr>\n",
       "    <tr>\n",
       "      <th>26</th>\n",
       "      <td>Q3_92</td>\n",
       "      <td>3508.000000</td>\n",
       "      <td>Q3 1992</td>\n",
       "    </tr>\n",
       "    <tr>\n",
       "      <th>27</th>\n",
       "      <td>Q4_92</td>\n",
       "      <td>3243.859993</td>\n",
       "      <td>Q4 1992</td>\n",
       "    </tr>\n",
       "    <tr>\n",
       "      <th>28</th>\n",
       "      <td>Q1_93</td>\n",
       "      <td>3056.000000</td>\n",
       "      <td>Q1 1993</td>\n",
       "    </tr>\n",
       "    <tr>\n",
       "      <th>29</th>\n",
       "      <td>Q2_93</td>\n",
       "      <td>3899.000000</td>\n",
       "      <td>Q2 1993</td>\n",
       "    </tr>\n",
       "    <tr>\n",
       "      <th>30</th>\n",
       "      <td>Q3_93</td>\n",
       "      <td>3629.000000</td>\n",
       "      <td>Q3 1993</td>\n",
       "    </tr>\n",
       "    <tr>\n",
       "      <th>31</th>\n",
       "      <td>Q4_93</td>\n",
       "      <td>3373.000000</td>\n",
       "      <td>Q4 1993</td>\n",
       "    </tr>\n",
       "    <tr>\n",
       "      <th>32</th>\n",
       "      <td>Q1_94</td>\n",
       "      <td>3352.000000</td>\n",
       "      <td>Q1 1994</td>\n",
       "    </tr>\n",
       "    <tr>\n",
       "      <th>33</th>\n",
       "      <td>Q2_94</td>\n",
       "      <td>4342.000000</td>\n",
       "      <td>Q2 1994</td>\n",
       "    </tr>\n",
       "    <tr>\n",
       "      <th>34</th>\n",
       "      <td>Q3_94</td>\n",
       "      <td>4461.000000</td>\n",
       "      <td>Q3 1994</td>\n",
       "    </tr>\n",
       "    <tr>\n",
       "      <th>35</th>\n",
       "      <td>Q4_94</td>\n",
       "      <td>4017.000000</td>\n",
       "      <td>Q4 1994</td>\n",
       "    </tr>\n",
       "    <tr>\n",
       "      <th>36</th>\n",
       "      <td>Q1_95</td>\n",
       "      <td>3854.000000</td>\n",
       "      <td>Q1 1995</td>\n",
       "    </tr>\n",
       "    <tr>\n",
       "      <th>37</th>\n",
       "      <td>Q2_95</td>\n",
       "      <td>4936.000000</td>\n",
       "      <td>Q2 1995</td>\n",
       "    </tr>\n",
       "    <tr>\n",
       "      <th>38</th>\n",
       "      <td>Q3_95</td>\n",
       "      <td>4895.000000</td>\n",
       "      <td>Q3 1995</td>\n",
       "    </tr>\n",
       "    <tr>\n",
       "      <th>39</th>\n",
       "      <td>Q4_95</td>\n",
       "      <td>4333.000000</td>\n",
       "      <td>Q4 1995</td>\n",
       "    </tr>\n",
       "    <tr>\n",
       "      <th>40</th>\n",
       "      <td>Q1_96</td>\n",
       "      <td>4194.000000</td>\n",
       "      <td>Q1 1996</td>\n",
       "    </tr>\n",
       "    <tr>\n",
       "      <th>41</th>\n",
       "      <td>Q2_96</td>\n",
       "      <td>5253.000000</td>\n",
       "      <td>Q2 1996</td>\n",
       "    </tr>\n",
       "  </tbody>\n",
       "</table>\n",
       "</div>"
      ],
      "text/plain": [
       "   Quarter        Sales Quarter_Year\n",
       "0    Q1_86  1734.827000      Q1 1986\n",
       "1    Q2_86  2244.960999      Q2 1986\n",
       "2    Q3_86  2533.804993      Q3 1986\n",
       "3    Q4_86  2154.962997      Q4 1986\n",
       "4    Q1_87  1547.818996      Q1 1987\n",
       "5    Q2_87  2104.411995      Q2 1987\n",
       "6    Q3_87  2014.362999      Q3 1987\n",
       "7    Q4_87  1991.746998      Q4 1987\n",
       "8    Q1_88  1869.049999      Q1 1988\n",
       "9    Q2_88  2313.631996      Q2 1988\n",
       "10   Q3_88  2128.320000      Q3 1988\n",
       "11   Q4_88  2026.828999      Q4 1988\n",
       "12   Q1_89  1910.603996      Q1 1989\n",
       "13   Q2_89  2331.164993      Q2 1989\n",
       "14   Q3_89  2206.549995      Q3 1989\n",
       "15   Q4_89  2173.967995      Q4 1989\n",
       "16   Q1_90  2148.278000      Q1 1990\n",
       "17   Q2_90  2739.307999      Q2 1990\n",
       "18   Q3_90  2792.753998      Q3 1990\n",
       "19   Q4_90  2556.009995      Q4 1990\n",
       "20   Q1_91  2480.973999      Q1 1991\n",
       "21   Q2_91  3039.522995      Q2 1991\n",
       "22   Q3_91  3172.115997      Q3 1991\n",
       "23   Q4_91  2879.000999      Q4 1991\n",
       "24   Q1_92  2772.000000      Q1 1992\n",
       "25   Q2_92  3550.000000      Q2 1992\n",
       "26   Q3_92  3508.000000      Q3 1992\n",
       "27   Q4_92  3243.859993      Q4 1992\n",
       "28   Q1_93  3056.000000      Q1 1993\n",
       "29   Q2_93  3899.000000      Q2 1993\n",
       "30   Q3_93  3629.000000      Q3 1993\n",
       "31   Q4_93  3373.000000      Q4 1993\n",
       "32   Q1_94  3352.000000      Q1 1994\n",
       "33   Q2_94  4342.000000      Q2 1994\n",
       "34   Q3_94  4461.000000      Q3 1994\n",
       "35   Q4_94  4017.000000      Q4 1994\n",
       "36   Q1_95  3854.000000      Q1 1995\n",
       "37   Q2_95  4936.000000      Q2 1995\n",
       "38   Q3_95  4895.000000      Q3 1995\n",
       "39   Q4_95  4333.000000      Q4 1995\n",
       "40   Q1_96  4194.000000      Q1 1996\n",
       "41   Q2_96  5253.000000      Q2 1996"
      ]
     },
     "execution_count": 7,
     "metadata": {},
     "output_type": "execute_result"
    }
   ],
   "source": [
    "data['Quarter_Year'] = data['Quarter'].str.split('_').apply(lambda x: ' 19'.join(x[:]))\n",
    "data"
   ]
  },
  {
   "cell_type": "markdown",
   "id": "a7ad0467",
   "metadata": {},
   "source": [
    "# Converting Quaterly data into Monthly dataset"
   ]
  },
  {
   "cell_type": "code",
   "execution_count": 8,
   "id": "371931b0",
   "metadata": {},
   "outputs": [],
   "source": [
    "data['date'] = (\n",
    "    pd.to_datetime(\n",
    "        data['Quarter_Year'].str.split(' ').apply(lambda x: ''.join(x[::-1]))\n",
    ",dayfirst=True))"
   ]
  },
  {
   "cell_type": "code",
   "execution_count": 9,
   "id": "7b7d201c",
   "metadata": {},
   "outputs": [
    {
     "data": {
      "text/html": [
       "<div>\n",
       "<style scoped>\n",
       "    .dataframe tbody tr th:only-of-type {\n",
       "        vertical-align: middle;\n",
       "    }\n",
       "\n",
       "    .dataframe tbody tr th {\n",
       "        vertical-align: top;\n",
       "    }\n",
       "\n",
       "    .dataframe thead th {\n",
       "        text-align: right;\n",
       "    }\n",
       "</style>\n",
       "<table border=\"1\" class=\"dataframe\">\n",
       "  <thead>\n",
       "    <tr style=\"text-align: right;\">\n",
       "      <th></th>\n",
       "      <th>Quarter</th>\n",
       "      <th>Sales</th>\n",
       "      <th>Quarter_Year</th>\n",
       "      <th>date</th>\n",
       "    </tr>\n",
       "  </thead>\n",
       "  <tbody>\n",
       "    <tr>\n",
       "      <th>0</th>\n",
       "      <td>Q1_86</td>\n",
       "      <td>1734.827000</td>\n",
       "      <td>Q1 1986</td>\n",
       "      <td>1986-01-01</td>\n",
       "    </tr>\n",
       "    <tr>\n",
       "      <th>1</th>\n",
       "      <td>Q2_86</td>\n",
       "      <td>2244.960999</td>\n",
       "      <td>Q2 1986</td>\n",
       "      <td>1986-04-01</td>\n",
       "    </tr>\n",
       "    <tr>\n",
       "      <th>2</th>\n",
       "      <td>Q3_86</td>\n",
       "      <td>2533.804993</td>\n",
       "      <td>Q3 1986</td>\n",
       "      <td>1986-07-01</td>\n",
       "    </tr>\n",
       "    <tr>\n",
       "      <th>3</th>\n",
       "      <td>Q4_86</td>\n",
       "      <td>2154.962997</td>\n",
       "      <td>Q4 1986</td>\n",
       "      <td>1986-10-01</td>\n",
       "    </tr>\n",
       "    <tr>\n",
       "      <th>4</th>\n",
       "      <td>Q1_87</td>\n",
       "      <td>1547.818996</td>\n",
       "      <td>Q1 1987</td>\n",
       "      <td>1987-01-01</td>\n",
       "    </tr>\n",
       "    <tr>\n",
       "      <th>5</th>\n",
       "      <td>Q2_87</td>\n",
       "      <td>2104.411995</td>\n",
       "      <td>Q2 1987</td>\n",
       "      <td>1987-04-01</td>\n",
       "    </tr>\n",
       "    <tr>\n",
       "      <th>6</th>\n",
       "      <td>Q3_87</td>\n",
       "      <td>2014.362999</td>\n",
       "      <td>Q3 1987</td>\n",
       "      <td>1987-07-01</td>\n",
       "    </tr>\n",
       "    <tr>\n",
       "      <th>7</th>\n",
       "      <td>Q4_87</td>\n",
       "      <td>1991.746998</td>\n",
       "      <td>Q4 1987</td>\n",
       "      <td>1987-10-01</td>\n",
       "    </tr>\n",
       "    <tr>\n",
       "      <th>8</th>\n",
       "      <td>Q1_88</td>\n",
       "      <td>1869.049999</td>\n",
       "      <td>Q1 1988</td>\n",
       "      <td>1988-01-01</td>\n",
       "    </tr>\n",
       "    <tr>\n",
       "      <th>9</th>\n",
       "      <td>Q2_88</td>\n",
       "      <td>2313.631996</td>\n",
       "      <td>Q2 1988</td>\n",
       "      <td>1988-04-01</td>\n",
       "    </tr>\n",
       "    <tr>\n",
       "      <th>10</th>\n",
       "      <td>Q3_88</td>\n",
       "      <td>2128.320000</td>\n",
       "      <td>Q3 1988</td>\n",
       "      <td>1988-07-01</td>\n",
       "    </tr>\n",
       "    <tr>\n",
       "      <th>11</th>\n",
       "      <td>Q4_88</td>\n",
       "      <td>2026.828999</td>\n",
       "      <td>Q4 1988</td>\n",
       "      <td>1988-10-01</td>\n",
       "    </tr>\n",
       "    <tr>\n",
       "      <th>12</th>\n",
       "      <td>Q1_89</td>\n",
       "      <td>1910.603996</td>\n",
       "      <td>Q1 1989</td>\n",
       "      <td>1989-01-01</td>\n",
       "    </tr>\n",
       "    <tr>\n",
       "      <th>13</th>\n",
       "      <td>Q2_89</td>\n",
       "      <td>2331.164993</td>\n",
       "      <td>Q2 1989</td>\n",
       "      <td>1989-04-01</td>\n",
       "    </tr>\n",
       "    <tr>\n",
       "      <th>14</th>\n",
       "      <td>Q3_89</td>\n",
       "      <td>2206.549995</td>\n",
       "      <td>Q3 1989</td>\n",
       "      <td>1989-07-01</td>\n",
       "    </tr>\n",
       "    <tr>\n",
       "      <th>15</th>\n",
       "      <td>Q4_89</td>\n",
       "      <td>2173.967995</td>\n",
       "      <td>Q4 1989</td>\n",
       "      <td>1989-10-01</td>\n",
       "    </tr>\n",
       "    <tr>\n",
       "      <th>16</th>\n",
       "      <td>Q1_90</td>\n",
       "      <td>2148.278000</td>\n",
       "      <td>Q1 1990</td>\n",
       "      <td>1990-01-01</td>\n",
       "    </tr>\n",
       "    <tr>\n",
       "      <th>17</th>\n",
       "      <td>Q2_90</td>\n",
       "      <td>2739.307999</td>\n",
       "      <td>Q2 1990</td>\n",
       "      <td>1990-04-01</td>\n",
       "    </tr>\n",
       "    <tr>\n",
       "      <th>18</th>\n",
       "      <td>Q3_90</td>\n",
       "      <td>2792.753998</td>\n",
       "      <td>Q3 1990</td>\n",
       "      <td>1990-07-01</td>\n",
       "    </tr>\n",
       "    <tr>\n",
       "      <th>19</th>\n",
       "      <td>Q4_90</td>\n",
       "      <td>2556.009995</td>\n",
       "      <td>Q4 1990</td>\n",
       "      <td>1990-10-01</td>\n",
       "    </tr>\n",
       "    <tr>\n",
       "      <th>20</th>\n",
       "      <td>Q1_91</td>\n",
       "      <td>2480.973999</td>\n",
       "      <td>Q1 1991</td>\n",
       "      <td>1991-01-01</td>\n",
       "    </tr>\n",
       "    <tr>\n",
       "      <th>21</th>\n",
       "      <td>Q2_91</td>\n",
       "      <td>3039.522995</td>\n",
       "      <td>Q2 1991</td>\n",
       "      <td>1991-04-01</td>\n",
       "    </tr>\n",
       "    <tr>\n",
       "      <th>22</th>\n",
       "      <td>Q3_91</td>\n",
       "      <td>3172.115997</td>\n",
       "      <td>Q3 1991</td>\n",
       "      <td>1991-07-01</td>\n",
       "    </tr>\n",
       "    <tr>\n",
       "      <th>23</th>\n",
       "      <td>Q4_91</td>\n",
       "      <td>2879.000999</td>\n",
       "      <td>Q4 1991</td>\n",
       "      <td>1991-10-01</td>\n",
       "    </tr>\n",
       "    <tr>\n",
       "      <th>24</th>\n",
       "      <td>Q1_92</td>\n",
       "      <td>2772.000000</td>\n",
       "      <td>Q1 1992</td>\n",
       "      <td>1992-01-01</td>\n",
       "    </tr>\n",
       "    <tr>\n",
       "      <th>25</th>\n",
       "      <td>Q2_92</td>\n",
       "      <td>3550.000000</td>\n",
       "      <td>Q2 1992</td>\n",
       "      <td>1992-04-01</td>\n",
       "    </tr>\n",
       "    <tr>\n",
       "      <th>26</th>\n",
       "      <td>Q3_92</td>\n",
       "      <td>3508.000000</td>\n",
       "      <td>Q3 1992</td>\n",
       "      <td>1992-07-01</td>\n",
       "    </tr>\n",
       "    <tr>\n",
       "      <th>27</th>\n",
       "      <td>Q4_92</td>\n",
       "      <td>3243.859993</td>\n",
       "      <td>Q4 1992</td>\n",
       "      <td>1992-10-01</td>\n",
       "    </tr>\n",
       "    <tr>\n",
       "      <th>28</th>\n",
       "      <td>Q1_93</td>\n",
       "      <td>3056.000000</td>\n",
       "      <td>Q1 1993</td>\n",
       "      <td>1993-01-01</td>\n",
       "    </tr>\n",
       "    <tr>\n",
       "      <th>29</th>\n",
       "      <td>Q2_93</td>\n",
       "      <td>3899.000000</td>\n",
       "      <td>Q2 1993</td>\n",
       "      <td>1993-04-01</td>\n",
       "    </tr>\n",
       "    <tr>\n",
       "      <th>30</th>\n",
       "      <td>Q3_93</td>\n",
       "      <td>3629.000000</td>\n",
       "      <td>Q3 1993</td>\n",
       "      <td>1993-07-01</td>\n",
       "    </tr>\n",
       "    <tr>\n",
       "      <th>31</th>\n",
       "      <td>Q4_93</td>\n",
       "      <td>3373.000000</td>\n",
       "      <td>Q4 1993</td>\n",
       "      <td>1993-10-01</td>\n",
       "    </tr>\n",
       "    <tr>\n",
       "      <th>32</th>\n",
       "      <td>Q1_94</td>\n",
       "      <td>3352.000000</td>\n",
       "      <td>Q1 1994</td>\n",
       "      <td>1994-01-01</td>\n",
       "    </tr>\n",
       "    <tr>\n",
       "      <th>33</th>\n",
       "      <td>Q2_94</td>\n",
       "      <td>4342.000000</td>\n",
       "      <td>Q2 1994</td>\n",
       "      <td>1994-04-01</td>\n",
       "    </tr>\n",
       "    <tr>\n",
       "      <th>34</th>\n",
       "      <td>Q3_94</td>\n",
       "      <td>4461.000000</td>\n",
       "      <td>Q3 1994</td>\n",
       "      <td>1994-07-01</td>\n",
       "    </tr>\n",
       "    <tr>\n",
       "      <th>35</th>\n",
       "      <td>Q4_94</td>\n",
       "      <td>4017.000000</td>\n",
       "      <td>Q4 1994</td>\n",
       "      <td>1994-10-01</td>\n",
       "    </tr>\n",
       "    <tr>\n",
       "      <th>36</th>\n",
       "      <td>Q1_95</td>\n",
       "      <td>3854.000000</td>\n",
       "      <td>Q1 1995</td>\n",
       "      <td>1995-01-01</td>\n",
       "    </tr>\n",
       "    <tr>\n",
       "      <th>37</th>\n",
       "      <td>Q2_95</td>\n",
       "      <td>4936.000000</td>\n",
       "      <td>Q2 1995</td>\n",
       "      <td>1995-04-01</td>\n",
       "    </tr>\n",
       "    <tr>\n",
       "      <th>38</th>\n",
       "      <td>Q3_95</td>\n",
       "      <td>4895.000000</td>\n",
       "      <td>Q3 1995</td>\n",
       "      <td>1995-07-01</td>\n",
       "    </tr>\n",
       "    <tr>\n",
       "      <th>39</th>\n",
       "      <td>Q4_95</td>\n",
       "      <td>4333.000000</td>\n",
       "      <td>Q4 1995</td>\n",
       "      <td>1995-10-01</td>\n",
       "    </tr>\n",
       "    <tr>\n",
       "      <th>40</th>\n",
       "      <td>Q1_96</td>\n",
       "      <td>4194.000000</td>\n",
       "      <td>Q1 1996</td>\n",
       "      <td>1996-01-01</td>\n",
       "    </tr>\n",
       "    <tr>\n",
       "      <th>41</th>\n",
       "      <td>Q2_96</td>\n",
       "      <td>5253.000000</td>\n",
       "      <td>Q2 1996</td>\n",
       "      <td>1996-04-01</td>\n",
       "    </tr>\n",
       "  </tbody>\n",
       "</table>\n",
       "</div>"
      ],
      "text/plain": [
       "   Quarter        Sales Quarter_Year       date\n",
       "0    Q1_86  1734.827000      Q1 1986 1986-01-01\n",
       "1    Q2_86  2244.960999      Q2 1986 1986-04-01\n",
       "2    Q3_86  2533.804993      Q3 1986 1986-07-01\n",
       "3    Q4_86  2154.962997      Q4 1986 1986-10-01\n",
       "4    Q1_87  1547.818996      Q1 1987 1987-01-01\n",
       "5    Q2_87  2104.411995      Q2 1987 1987-04-01\n",
       "6    Q3_87  2014.362999      Q3 1987 1987-07-01\n",
       "7    Q4_87  1991.746998      Q4 1987 1987-10-01\n",
       "8    Q1_88  1869.049999      Q1 1988 1988-01-01\n",
       "9    Q2_88  2313.631996      Q2 1988 1988-04-01\n",
       "10   Q3_88  2128.320000      Q3 1988 1988-07-01\n",
       "11   Q4_88  2026.828999      Q4 1988 1988-10-01\n",
       "12   Q1_89  1910.603996      Q1 1989 1989-01-01\n",
       "13   Q2_89  2331.164993      Q2 1989 1989-04-01\n",
       "14   Q3_89  2206.549995      Q3 1989 1989-07-01\n",
       "15   Q4_89  2173.967995      Q4 1989 1989-10-01\n",
       "16   Q1_90  2148.278000      Q1 1990 1990-01-01\n",
       "17   Q2_90  2739.307999      Q2 1990 1990-04-01\n",
       "18   Q3_90  2792.753998      Q3 1990 1990-07-01\n",
       "19   Q4_90  2556.009995      Q4 1990 1990-10-01\n",
       "20   Q1_91  2480.973999      Q1 1991 1991-01-01\n",
       "21   Q2_91  3039.522995      Q2 1991 1991-04-01\n",
       "22   Q3_91  3172.115997      Q3 1991 1991-07-01\n",
       "23   Q4_91  2879.000999      Q4 1991 1991-10-01\n",
       "24   Q1_92  2772.000000      Q1 1992 1992-01-01\n",
       "25   Q2_92  3550.000000      Q2 1992 1992-04-01\n",
       "26   Q3_92  3508.000000      Q3 1992 1992-07-01\n",
       "27   Q4_92  3243.859993      Q4 1992 1992-10-01\n",
       "28   Q1_93  3056.000000      Q1 1993 1993-01-01\n",
       "29   Q2_93  3899.000000      Q2 1993 1993-04-01\n",
       "30   Q3_93  3629.000000      Q3 1993 1993-07-01\n",
       "31   Q4_93  3373.000000      Q4 1993 1993-10-01\n",
       "32   Q1_94  3352.000000      Q1 1994 1994-01-01\n",
       "33   Q2_94  4342.000000      Q2 1994 1994-04-01\n",
       "34   Q3_94  4461.000000      Q3 1994 1994-07-01\n",
       "35   Q4_94  4017.000000      Q4 1994 1994-10-01\n",
       "36   Q1_95  3854.000000      Q1 1995 1995-01-01\n",
       "37   Q2_95  4936.000000      Q2 1995 1995-04-01\n",
       "38   Q3_95  4895.000000      Q3 1995 1995-07-01\n",
       "39   Q4_95  4333.000000      Q4 1995 1995-10-01\n",
       "40   Q1_96  4194.000000      Q1 1996 1996-01-01\n",
       "41   Q2_96  5253.000000      Q2 1996 1996-04-01"
      ]
     },
     "execution_count": 9,
     "metadata": {},
     "output_type": "execute_result"
    }
   ],
   "source": [
    "data"
   ]
  },
  {
   "cell_type": "code",
   "execution_count": 10,
   "id": "3a6276bb",
   "metadata": {},
   "outputs": [],
   "source": [
    "data.drop(columns=['Quarter','Quarter_Year'],inplace=True)"
   ]
  },
  {
   "cell_type": "code",
   "execution_count": 11,
   "id": "0d0c868e",
   "metadata": {},
   "outputs": [
    {
     "data": {
      "text/html": [
       "<div>\n",
       "<style scoped>\n",
       "    .dataframe tbody tr th:only-of-type {\n",
       "        vertical-align: middle;\n",
       "    }\n",
       "\n",
       "    .dataframe tbody tr th {\n",
       "        vertical-align: top;\n",
       "    }\n",
       "\n",
       "    .dataframe thead th {\n",
       "        text-align: right;\n",
       "    }\n",
       "</style>\n",
       "<table border=\"1\" class=\"dataframe\">\n",
       "  <thead>\n",
       "    <tr style=\"text-align: right;\">\n",
       "      <th></th>\n",
       "      <th>Sales</th>\n",
       "      <th>date</th>\n",
       "    </tr>\n",
       "  </thead>\n",
       "  <tbody>\n",
       "    <tr>\n",
       "      <th>0</th>\n",
       "      <td>1734.827000</td>\n",
       "      <td>1986-01-01</td>\n",
       "    </tr>\n",
       "    <tr>\n",
       "      <th>1</th>\n",
       "      <td>2244.960999</td>\n",
       "      <td>1986-04-01</td>\n",
       "    </tr>\n",
       "    <tr>\n",
       "      <th>2</th>\n",
       "      <td>2533.804993</td>\n",
       "      <td>1986-07-01</td>\n",
       "    </tr>\n",
       "    <tr>\n",
       "      <th>3</th>\n",
       "      <td>2154.962997</td>\n",
       "      <td>1986-10-01</td>\n",
       "    </tr>\n",
       "    <tr>\n",
       "      <th>4</th>\n",
       "      <td>1547.818996</td>\n",
       "      <td>1987-01-01</td>\n",
       "    </tr>\n",
       "    <tr>\n",
       "      <th>5</th>\n",
       "      <td>2104.411995</td>\n",
       "      <td>1987-04-01</td>\n",
       "    </tr>\n",
       "    <tr>\n",
       "      <th>6</th>\n",
       "      <td>2014.362999</td>\n",
       "      <td>1987-07-01</td>\n",
       "    </tr>\n",
       "    <tr>\n",
       "      <th>7</th>\n",
       "      <td>1991.746998</td>\n",
       "      <td>1987-10-01</td>\n",
       "    </tr>\n",
       "    <tr>\n",
       "      <th>8</th>\n",
       "      <td>1869.049999</td>\n",
       "      <td>1988-01-01</td>\n",
       "    </tr>\n",
       "    <tr>\n",
       "      <th>9</th>\n",
       "      <td>2313.631996</td>\n",
       "      <td>1988-04-01</td>\n",
       "    </tr>\n",
       "    <tr>\n",
       "      <th>10</th>\n",
       "      <td>2128.320000</td>\n",
       "      <td>1988-07-01</td>\n",
       "    </tr>\n",
       "    <tr>\n",
       "      <th>11</th>\n",
       "      <td>2026.828999</td>\n",
       "      <td>1988-10-01</td>\n",
       "    </tr>\n",
       "    <tr>\n",
       "      <th>12</th>\n",
       "      <td>1910.603996</td>\n",
       "      <td>1989-01-01</td>\n",
       "    </tr>\n",
       "    <tr>\n",
       "      <th>13</th>\n",
       "      <td>2331.164993</td>\n",
       "      <td>1989-04-01</td>\n",
       "    </tr>\n",
       "    <tr>\n",
       "      <th>14</th>\n",
       "      <td>2206.549995</td>\n",
       "      <td>1989-07-01</td>\n",
       "    </tr>\n",
       "    <tr>\n",
       "      <th>15</th>\n",
       "      <td>2173.967995</td>\n",
       "      <td>1989-10-01</td>\n",
       "    </tr>\n",
       "    <tr>\n",
       "      <th>16</th>\n",
       "      <td>2148.278000</td>\n",
       "      <td>1990-01-01</td>\n",
       "    </tr>\n",
       "    <tr>\n",
       "      <th>17</th>\n",
       "      <td>2739.307999</td>\n",
       "      <td>1990-04-01</td>\n",
       "    </tr>\n",
       "    <tr>\n",
       "      <th>18</th>\n",
       "      <td>2792.753998</td>\n",
       "      <td>1990-07-01</td>\n",
       "    </tr>\n",
       "    <tr>\n",
       "      <th>19</th>\n",
       "      <td>2556.009995</td>\n",
       "      <td>1990-10-01</td>\n",
       "    </tr>\n",
       "    <tr>\n",
       "      <th>20</th>\n",
       "      <td>2480.973999</td>\n",
       "      <td>1991-01-01</td>\n",
       "    </tr>\n",
       "    <tr>\n",
       "      <th>21</th>\n",
       "      <td>3039.522995</td>\n",
       "      <td>1991-04-01</td>\n",
       "    </tr>\n",
       "    <tr>\n",
       "      <th>22</th>\n",
       "      <td>3172.115997</td>\n",
       "      <td>1991-07-01</td>\n",
       "    </tr>\n",
       "    <tr>\n",
       "      <th>23</th>\n",
       "      <td>2879.000999</td>\n",
       "      <td>1991-10-01</td>\n",
       "    </tr>\n",
       "    <tr>\n",
       "      <th>24</th>\n",
       "      <td>2772.000000</td>\n",
       "      <td>1992-01-01</td>\n",
       "    </tr>\n",
       "    <tr>\n",
       "      <th>25</th>\n",
       "      <td>3550.000000</td>\n",
       "      <td>1992-04-01</td>\n",
       "    </tr>\n",
       "    <tr>\n",
       "      <th>26</th>\n",
       "      <td>3508.000000</td>\n",
       "      <td>1992-07-01</td>\n",
       "    </tr>\n",
       "    <tr>\n",
       "      <th>27</th>\n",
       "      <td>3243.859993</td>\n",
       "      <td>1992-10-01</td>\n",
       "    </tr>\n",
       "    <tr>\n",
       "      <th>28</th>\n",
       "      <td>3056.000000</td>\n",
       "      <td>1993-01-01</td>\n",
       "    </tr>\n",
       "    <tr>\n",
       "      <th>29</th>\n",
       "      <td>3899.000000</td>\n",
       "      <td>1993-04-01</td>\n",
       "    </tr>\n",
       "    <tr>\n",
       "      <th>30</th>\n",
       "      <td>3629.000000</td>\n",
       "      <td>1993-07-01</td>\n",
       "    </tr>\n",
       "    <tr>\n",
       "      <th>31</th>\n",
       "      <td>3373.000000</td>\n",
       "      <td>1993-10-01</td>\n",
       "    </tr>\n",
       "    <tr>\n",
       "      <th>32</th>\n",
       "      <td>3352.000000</td>\n",
       "      <td>1994-01-01</td>\n",
       "    </tr>\n",
       "    <tr>\n",
       "      <th>33</th>\n",
       "      <td>4342.000000</td>\n",
       "      <td>1994-04-01</td>\n",
       "    </tr>\n",
       "    <tr>\n",
       "      <th>34</th>\n",
       "      <td>4461.000000</td>\n",
       "      <td>1994-07-01</td>\n",
       "    </tr>\n",
       "    <tr>\n",
       "      <th>35</th>\n",
       "      <td>4017.000000</td>\n",
       "      <td>1994-10-01</td>\n",
       "    </tr>\n",
       "    <tr>\n",
       "      <th>36</th>\n",
       "      <td>3854.000000</td>\n",
       "      <td>1995-01-01</td>\n",
       "    </tr>\n",
       "    <tr>\n",
       "      <th>37</th>\n",
       "      <td>4936.000000</td>\n",
       "      <td>1995-04-01</td>\n",
       "    </tr>\n",
       "    <tr>\n",
       "      <th>38</th>\n",
       "      <td>4895.000000</td>\n",
       "      <td>1995-07-01</td>\n",
       "    </tr>\n",
       "    <tr>\n",
       "      <th>39</th>\n",
       "      <td>4333.000000</td>\n",
       "      <td>1995-10-01</td>\n",
       "    </tr>\n",
       "    <tr>\n",
       "      <th>40</th>\n",
       "      <td>4194.000000</td>\n",
       "      <td>1996-01-01</td>\n",
       "    </tr>\n",
       "    <tr>\n",
       "      <th>41</th>\n",
       "      <td>5253.000000</td>\n",
       "      <td>1996-04-01</td>\n",
       "    </tr>\n",
       "  </tbody>\n",
       "</table>\n",
       "</div>"
      ],
      "text/plain": [
       "          Sales       date\n",
       "0   1734.827000 1986-01-01\n",
       "1   2244.960999 1986-04-01\n",
       "2   2533.804993 1986-07-01\n",
       "3   2154.962997 1986-10-01\n",
       "4   1547.818996 1987-01-01\n",
       "5   2104.411995 1987-04-01\n",
       "6   2014.362999 1987-07-01\n",
       "7   1991.746998 1987-10-01\n",
       "8   1869.049999 1988-01-01\n",
       "9   2313.631996 1988-04-01\n",
       "10  2128.320000 1988-07-01\n",
       "11  2026.828999 1988-10-01\n",
       "12  1910.603996 1989-01-01\n",
       "13  2331.164993 1989-04-01\n",
       "14  2206.549995 1989-07-01\n",
       "15  2173.967995 1989-10-01\n",
       "16  2148.278000 1990-01-01\n",
       "17  2739.307999 1990-04-01\n",
       "18  2792.753998 1990-07-01\n",
       "19  2556.009995 1990-10-01\n",
       "20  2480.973999 1991-01-01\n",
       "21  3039.522995 1991-04-01\n",
       "22  3172.115997 1991-07-01\n",
       "23  2879.000999 1991-10-01\n",
       "24  2772.000000 1992-01-01\n",
       "25  3550.000000 1992-04-01\n",
       "26  3508.000000 1992-07-01\n",
       "27  3243.859993 1992-10-01\n",
       "28  3056.000000 1993-01-01\n",
       "29  3899.000000 1993-04-01\n",
       "30  3629.000000 1993-07-01\n",
       "31  3373.000000 1993-10-01\n",
       "32  3352.000000 1994-01-01\n",
       "33  4342.000000 1994-04-01\n",
       "34  4461.000000 1994-07-01\n",
       "35  4017.000000 1994-10-01\n",
       "36  3854.000000 1995-01-01\n",
       "37  4936.000000 1995-04-01\n",
       "38  4895.000000 1995-07-01\n",
       "39  4333.000000 1995-10-01\n",
       "40  4194.000000 1996-01-01\n",
       "41  5253.000000 1996-04-01"
      ]
     },
     "execution_count": 11,
     "metadata": {},
     "output_type": "execute_result"
    }
   ],
   "source": [
    "data"
   ]
  },
  {
   "cell_type": "code",
   "execution_count": 12,
   "id": "cbe7ca20",
   "metadata": {},
   "outputs": [
    {
     "data": {
      "text/html": [
       "<div>\n",
       "<style scoped>\n",
       "    .dataframe tbody tr th:only-of-type {\n",
       "        vertical-align: middle;\n",
       "    }\n",
       "\n",
       "    .dataframe tbody tr th {\n",
       "        vertical-align: top;\n",
       "    }\n",
       "\n",
       "    .dataframe thead th {\n",
       "        text-align: right;\n",
       "    }\n",
       "</style>\n",
       "<table border=\"1\" class=\"dataframe\">\n",
       "  <thead>\n",
       "    <tr style=\"text-align: right;\">\n",
       "      <th></th>\n",
       "      <th>Sales</th>\n",
       "    </tr>\n",
       "    <tr>\n",
       "      <th>date</th>\n",
       "      <th></th>\n",
       "    </tr>\n",
       "  </thead>\n",
       "  <tbody>\n",
       "    <tr>\n",
       "      <th>1986-01-01</th>\n",
       "      <td>1734.827000</td>\n",
       "    </tr>\n",
       "    <tr>\n",
       "      <th>1986-04-01</th>\n",
       "      <td>2244.960999</td>\n",
       "    </tr>\n",
       "    <tr>\n",
       "      <th>1986-07-01</th>\n",
       "      <td>2533.804993</td>\n",
       "    </tr>\n",
       "    <tr>\n",
       "      <th>1986-10-01</th>\n",
       "      <td>2154.962997</td>\n",
       "    </tr>\n",
       "    <tr>\n",
       "      <th>1987-01-01</th>\n",
       "      <td>1547.818996</td>\n",
       "    </tr>\n",
       "  </tbody>\n",
       "</table>\n",
       "</div>"
      ],
      "text/plain": [
       "                  Sales\n",
       "date                   \n",
       "1986-01-01  1734.827000\n",
       "1986-04-01  2244.960999\n",
       "1986-07-01  2533.804993\n",
       "1986-10-01  2154.962997\n",
       "1987-01-01  1547.818996"
      ]
     },
     "execution_count": 12,
     "metadata": {},
     "output_type": "execute_result"
    }
   ],
   "source": [
    "data.columns = [\"Sales\", 'date']\n",
    "data['date'] = pd.to_datetime(data['date'], format='%Y-%m')\n",
    "data = data.set_index('date')\n",
    "data.head()"
   ]
  },
  {
   "cell_type": "code",
   "execution_count": 13,
   "id": "e6a9ec03",
   "metadata": {},
   "outputs": [
    {
     "data": {
      "text/html": [
       "<div>\n",
       "<style scoped>\n",
       "    .dataframe tbody tr th:only-of-type {\n",
       "        vertical-align: middle;\n",
       "    }\n",
       "\n",
       "    .dataframe tbody tr th {\n",
       "        vertical-align: top;\n",
       "    }\n",
       "\n",
       "    .dataframe thead th {\n",
       "        text-align: right;\n",
       "    }\n",
       "</style>\n",
       "<table border=\"1\" class=\"dataframe\">\n",
       "  <thead>\n",
       "    <tr style=\"text-align: right;\">\n",
       "      <th></th>\n",
       "      <th>Sales</th>\n",
       "    </tr>\n",
       "    <tr>\n",
       "      <th>date</th>\n",
       "      <th></th>\n",
       "    </tr>\n",
       "  </thead>\n",
       "  <tbody>\n",
       "    <tr>\n",
       "      <th>1986-01-01</th>\n",
       "      <td>1734.827000</td>\n",
       "    </tr>\n",
       "    <tr>\n",
       "      <th>1986-04-01</th>\n",
       "      <td>2244.960999</td>\n",
       "    </tr>\n",
       "    <tr>\n",
       "      <th>1986-07-01</th>\n",
       "      <td>2533.804993</td>\n",
       "    </tr>\n",
       "    <tr>\n",
       "      <th>1986-10-01</th>\n",
       "      <td>2154.962997</td>\n",
       "    </tr>\n",
       "    <tr>\n",
       "      <th>1987-01-01</th>\n",
       "      <td>1547.818996</td>\n",
       "    </tr>\n",
       "    <tr>\n",
       "      <th>1987-04-01</th>\n",
       "      <td>2104.411995</td>\n",
       "    </tr>\n",
       "    <tr>\n",
       "      <th>1987-07-01</th>\n",
       "      <td>2014.362999</td>\n",
       "    </tr>\n",
       "    <tr>\n",
       "      <th>1987-10-01</th>\n",
       "      <td>1991.746998</td>\n",
       "    </tr>\n",
       "    <tr>\n",
       "      <th>1988-01-01</th>\n",
       "      <td>1869.049999</td>\n",
       "    </tr>\n",
       "    <tr>\n",
       "      <th>1988-04-01</th>\n",
       "      <td>2313.631996</td>\n",
       "    </tr>\n",
       "    <tr>\n",
       "      <th>1988-07-01</th>\n",
       "      <td>2128.320000</td>\n",
       "    </tr>\n",
       "    <tr>\n",
       "      <th>1988-10-01</th>\n",
       "      <td>2026.828999</td>\n",
       "    </tr>\n",
       "    <tr>\n",
       "      <th>1989-01-01</th>\n",
       "      <td>1910.603996</td>\n",
       "    </tr>\n",
       "    <tr>\n",
       "      <th>1989-04-01</th>\n",
       "      <td>2331.164993</td>\n",
       "    </tr>\n",
       "    <tr>\n",
       "      <th>1989-07-01</th>\n",
       "      <td>2206.549995</td>\n",
       "    </tr>\n",
       "    <tr>\n",
       "      <th>1989-10-01</th>\n",
       "      <td>2173.967995</td>\n",
       "    </tr>\n",
       "    <tr>\n",
       "      <th>1990-01-01</th>\n",
       "      <td>2148.278000</td>\n",
       "    </tr>\n",
       "    <tr>\n",
       "      <th>1990-04-01</th>\n",
       "      <td>2739.307999</td>\n",
       "    </tr>\n",
       "    <tr>\n",
       "      <th>1990-07-01</th>\n",
       "      <td>2792.753998</td>\n",
       "    </tr>\n",
       "    <tr>\n",
       "      <th>1990-10-01</th>\n",
       "      <td>2556.009995</td>\n",
       "    </tr>\n",
       "    <tr>\n",
       "      <th>1991-01-01</th>\n",
       "      <td>2480.973999</td>\n",
       "    </tr>\n",
       "    <tr>\n",
       "      <th>1991-04-01</th>\n",
       "      <td>3039.522995</td>\n",
       "    </tr>\n",
       "    <tr>\n",
       "      <th>1991-07-01</th>\n",
       "      <td>3172.115997</td>\n",
       "    </tr>\n",
       "    <tr>\n",
       "      <th>1991-10-01</th>\n",
       "      <td>2879.000999</td>\n",
       "    </tr>\n",
       "    <tr>\n",
       "      <th>1992-01-01</th>\n",
       "      <td>2772.000000</td>\n",
       "    </tr>\n",
       "    <tr>\n",
       "      <th>1992-04-01</th>\n",
       "      <td>3550.000000</td>\n",
       "    </tr>\n",
       "    <tr>\n",
       "      <th>1992-07-01</th>\n",
       "      <td>3508.000000</td>\n",
       "    </tr>\n",
       "    <tr>\n",
       "      <th>1992-10-01</th>\n",
       "      <td>3243.859993</td>\n",
       "    </tr>\n",
       "    <tr>\n",
       "      <th>1993-01-01</th>\n",
       "      <td>3056.000000</td>\n",
       "    </tr>\n",
       "    <tr>\n",
       "      <th>1993-04-01</th>\n",
       "      <td>3899.000000</td>\n",
       "    </tr>\n",
       "    <tr>\n",
       "      <th>1993-07-01</th>\n",
       "      <td>3629.000000</td>\n",
       "    </tr>\n",
       "    <tr>\n",
       "      <th>1993-10-01</th>\n",
       "      <td>3373.000000</td>\n",
       "    </tr>\n",
       "    <tr>\n",
       "      <th>1994-01-01</th>\n",
       "      <td>3352.000000</td>\n",
       "    </tr>\n",
       "    <tr>\n",
       "      <th>1994-04-01</th>\n",
       "      <td>4342.000000</td>\n",
       "    </tr>\n",
       "    <tr>\n",
       "      <th>1994-07-01</th>\n",
       "      <td>4461.000000</td>\n",
       "    </tr>\n",
       "    <tr>\n",
       "      <th>1994-10-01</th>\n",
       "      <td>4017.000000</td>\n",
       "    </tr>\n",
       "    <tr>\n",
       "      <th>1995-01-01</th>\n",
       "      <td>3854.000000</td>\n",
       "    </tr>\n",
       "    <tr>\n",
       "      <th>1995-04-01</th>\n",
       "      <td>4936.000000</td>\n",
       "    </tr>\n",
       "    <tr>\n",
       "      <th>1995-07-01</th>\n",
       "      <td>4895.000000</td>\n",
       "    </tr>\n",
       "    <tr>\n",
       "      <th>1995-10-01</th>\n",
       "      <td>4333.000000</td>\n",
       "    </tr>\n",
       "    <tr>\n",
       "      <th>1996-01-01</th>\n",
       "      <td>4194.000000</td>\n",
       "    </tr>\n",
       "    <tr>\n",
       "      <th>1996-04-01</th>\n",
       "      <td>5253.000000</td>\n",
       "    </tr>\n",
       "  </tbody>\n",
       "</table>\n",
       "</div>"
      ],
      "text/plain": [
       "                  Sales\n",
       "date                   \n",
       "1986-01-01  1734.827000\n",
       "1986-04-01  2244.960999\n",
       "1986-07-01  2533.804993\n",
       "1986-10-01  2154.962997\n",
       "1987-01-01  1547.818996\n",
       "1987-04-01  2104.411995\n",
       "1987-07-01  2014.362999\n",
       "1987-10-01  1991.746998\n",
       "1988-01-01  1869.049999\n",
       "1988-04-01  2313.631996\n",
       "1988-07-01  2128.320000\n",
       "1988-10-01  2026.828999\n",
       "1989-01-01  1910.603996\n",
       "1989-04-01  2331.164993\n",
       "1989-07-01  2206.549995\n",
       "1989-10-01  2173.967995\n",
       "1990-01-01  2148.278000\n",
       "1990-04-01  2739.307999\n",
       "1990-07-01  2792.753998\n",
       "1990-10-01  2556.009995\n",
       "1991-01-01  2480.973999\n",
       "1991-04-01  3039.522995\n",
       "1991-07-01  3172.115997\n",
       "1991-10-01  2879.000999\n",
       "1992-01-01  2772.000000\n",
       "1992-04-01  3550.000000\n",
       "1992-07-01  3508.000000\n",
       "1992-10-01  3243.859993\n",
       "1993-01-01  3056.000000\n",
       "1993-04-01  3899.000000\n",
       "1993-07-01  3629.000000\n",
       "1993-10-01  3373.000000\n",
       "1994-01-01  3352.000000\n",
       "1994-04-01  4342.000000\n",
       "1994-07-01  4461.000000\n",
       "1994-10-01  4017.000000\n",
       "1995-01-01  3854.000000\n",
       "1995-04-01  4936.000000\n",
       "1995-07-01  4895.000000\n",
       "1995-10-01  4333.000000\n",
       "1996-01-01  4194.000000\n",
       "1996-04-01  5253.000000"
      ]
     },
     "execution_count": 13,
     "metadata": {},
     "output_type": "execute_result"
    }
   ],
   "source": [
    "data"
   ]
  },
  {
   "cell_type": "markdown",
   "id": "0f716e0a",
   "metadata": {},
   "source": [
    "# Plot Time Series Data"
   ]
  },
  {
   "cell_type": "code",
   "execution_count": 14,
   "id": "1f6ef3c6",
   "metadata": {},
   "outputs": [
    {
     "data": {
      "text/plain": [
       "<AxesSubplot:xlabel='date'>"
      ]
     },
     "execution_count": 14,
     "metadata": {},
     "output_type": "execute_result"
    },
    {
     "data": {
      "image/png": "[encoded data removed]",
      "text/plain": [
       "<Figure size 864x288 with 1 Axes>"
      ]
     },
     "metadata": {
      "needs_background": "light"
     },
     "output_type": "display_data"
    }
   ],
   "source": [
    "data.plot(figsize=(12,4))"
   ]
  },
  {
   "cell_type": "markdown",
   "id": "40a1b598",
   "metadata": {},
   "source": [
    "# Box Plot For Outlier Detection"
   ]
  },
  {
   "cell_type": "code",
   "execution_count": 15,
   "id": "77f3d959",
   "metadata": {},
   "outputs": [
    {
     "data": {
      "image/png": "[encoded data removed]",
      "text/plain": [
       "<Figure size 864x144 with 1 Axes>"
      ]
     },
     "metadata": {
      "needs_background": "light"
     },
     "output_type": "display_data"
    }
   ],
   "source": [
    "fig = plt.subplots(figsize=(12,2))\n",
    "ax = sns.boxplot(data['Sales'])"
   ]
  },
  {
   "cell_type": "markdown",
   "id": "e0d3d3ee",
   "metadata": {},
   "source": [
    "# Histogram"
   ]
  },
  {
   "cell_type": "code",
   "execution_count": 16,
   "id": "2b2edd62",
   "metadata": {},
   "outputs": [
    {
     "data": {
      "text/plain": [
       "<AxesSubplot:>"
      ]
     },
     "execution_count": 16,
     "metadata": {},
     "output_type": "execute_result"
    },
    {
     "data": {
      "image/png": "[encoded data removed]",
      "text/plain": [
       "<Figure size 864x288 with 1 Axes>"
      ]
     },
     "metadata": {
      "needs_background": "light"
     },
     "output_type": "display_data"
    }
   ],
   "source": [
    "data['Sales'].hist(figsize=(12,4))"
   ]
  },
  {
   "cell_type": "markdown",
   "id": "8f4a3215",
   "metadata": {},
   "source": [
    "# Handling Missing Values"
   ]
  },
  {
   "cell_type": "markdown",
   "id": "34edfc14",
   "metadata": {},
   "source": [
    "## UpSampling"
   ]
  },
  {
   "cell_type": "code",
   "execution_count": 17,
   "id": "7d82f989",
   "metadata": {},
   "outputs": [
    {
     "name": "stdout",
     "output_type": "stream",
     "text": [
      "                  Sales\n",
      "date                   \n",
      "1986-01-31  1734.827000\n",
      "1986-02-28          NaN\n",
      "1986-03-31          NaN\n",
      "1986-04-30  2244.960999\n",
      "1986-05-31          NaN\n",
      "1986-06-30          NaN\n",
      "1986-07-31  2533.804993\n",
      "1986-08-31          NaN\n",
      "1986-09-30          NaN\n",
      "1986-10-31  2154.962997\n",
      "1986-11-30          NaN\n",
      "1986-12-31          NaN\n",
      "1987-01-31  1547.818996\n",
      "1987-02-28          NaN\n",
      "1987-03-31          NaN\n",
      "1987-04-30  2104.411995\n",
      "1987-05-31          NaN\n",
      "1987-06-30          NaN\n",
      "1987-07-31  2014.362999\n",
      "1987-08-31          NaN\n",
      "1987-09-30          NaN\n",
      "1987-10-31  1991.746998\n",
      "1987-11-30          NaN\n",
      "1987-12-31          NaN\n",
      "1988-01-31  1869.049999\n",
      "1988-02-29          NaN\n",
      "1988-03-31          NaN\n",
      "1988-04-30  2313.631996\n",
      "1988-05-31          NaN\n",
      "1988-06-30          NaN\n",
      "1988-07-31  2128.320000\n",
      "1988-08-31          NaN\n"
     ]
    }
   ],
   "source": [
    "upsampled = data.resample('M').mean()\n",
    "print(upsampled.head(32))"
   ]
  },
  {
   "cell_type": "code",
   "execution_count": 18,
   "id": "3e65175e",
   "metadata": {},
   "outputs": [
    {
     "name": "stdout",
     "output_type": "stream",
     "text": [
      "                  Sales\n",
      "date                   \n",
      "1986-01-31  1734.827000\n",
      "1986-02-28  1904.871666\n",
      "1986-03-31  2074.916332\n",
      "1986-04-30  2244.960999\n",
      "1986-05-31  2341.242330\n",
      "1986-06-30  2437.523661\n",
      "1986-07-31  2533.804993\n",
      "1986-08-31  2407.524328\n",
      "1986-09-30  2281.243663\n",
      "1986-10-31  2154.962997\n",
      "1986-11-30  1952.581664\n",
      "1986-12-31  1750.200330\n",
      "1987-01-31  1547.818996\n",
      "1987-02-28  1733.349996\n",
      "1987-03-31  1918.880995\n"
     ]
    },
    {
     "data": {
      "image/png": "[encoded data removed]",
      "text/plain": [
       "<Figure size 432x288 with 1 Axes>"
      ]
     },
     "metadata": {
      "needs_background": "light"
     },
     "output_type": "display_data"
    }
   ],
   "source": [
    "interpolated = upsampled.interpolate(method='linear') ## interplation was done for nan values which we get after doing upsampling by month\n",
    "print(interpolated.head(15))\n",
    "interpolated.plot()\n",
    "plt.show()"
   ]
  },
  {
   "cell_type": "code",
   "execution_count": 19,
   "id": "7a46dbdd",
   "metadata": {},
   "outputs": [
    {
     "data": {
      "text/html": [
       "<div>\n",
       "<style scoped>\n",
       "    .dataframe tbody tr th:only-of-type {\n",
       "        vertical-align: middle;\n",
       "    }\n",
       "\n",
       "    .dataframe tbody tr th {\n",
       "        vertical-align: top;\n",
       "    }\n",
       "\n",
       "    .dataframe thead th {\n",
       "        text-align: right;\n",
       "    }\n",
       "</style>\n",
       "<table border=\"1\" class=\"dataframe\">\n",
       "  <thead>\n",
       "    <tr style=\"text-align: right;\">\n",
       "      <th></th>\n",
       "      <th>Sales</th>\n",
       "    </tr>\n",
       "    <tr>\n",
       "      <th>date</th>\n",
       "      <th></th>\n",
       "    </tr>\n",
       "  </thead>\n",
       "  <tbody>\n",
       "    <tr>\n",
       "      <th>1986-01-31</th>\n",
       "      <td>1734.827000</td>\n",
       "    </tr>\n",
       "    <tr>\n",
       "      <th>1986-02-28</th>\n",
       "      <td>1904.871666</td>\n",
       "    </tr>\n",
       "    <tr>\n",
       "      <th>1986-03-31</th>\n",
       "      <td>2074.916332</td>\n",
       "    </tr>\n",
       "    <tr>\n",
       "      <th>1986-04-30</th>\n",
       "      <td>2244.960999</td>\n",
       "    </tr>\n",
       "    <tr>\n",
       "      <th>1986-05-31</th>\n",
       "      <td>2341.242330</td>\n",
       "    </tr>\n",
       "    <tr>\n",
       "      <th>...</th>\n",
       "      <td>...</td>\n",
       "    </tr>\n",
       "    <tr>\n",
       "      <th>1995-12-31</th>\n",
       "      <td>4240.333333</td>\n",
       "    </tr>\n",
       "    <tr>\n",
       "      <th>1996-01-31</th>\n",
       "      <td>4194.000000</td>\n",
       "    </tr>\n",
       "    <tr>\n",
       "      <th>1996-02-29</th>\n",
       "      <td>4547.000000</td>\n",
       "    </tr>\n",
       "    <tr>\n",
       "      <th>1996-03-31</th>\n",
       "      <td>4900.000000</td>\n",
       "    </tr>\n",
       "    <tr>\n",
       "      <th>1996-04-30</th>\n",
       "      <td>5253.000000</td>\n",
       "    </tr>\n",
       "  </tbody>\n",
       "</table>\n",
       "<p>124 rows × 1 columns</p>\n",
       "</div>"
      ],
      "text/plain": [
       "                  Sales\n",
       "date                   \n",
       "1986-01-31  1734.827000\n",
       "1986-02-28  1904.871666\n",
       "1986-03-31  2074.916332\n",
       "1986-04-30  2244.960999\n",
       "1986-05-31  2341.242330\n",
       "...                 ...\n",
       "1995-12-31  4240.333333\n",
       "1996-01-31  4194.000000\n",
       "1996-02-29  4547.000000\n",
       "1996-03-31  4900.000000\n",
       "1996-04-30  5253.000000\n",
       "\n",
       "[124 rows x 1 columns]"
      ]
     },
     "execution_count": 19,
     "metadata": {},
     "output_type": "execute_result"
    }
   ],
   "source": [
    "interpolated"
   ]
  },
  {
   "cell_type": "code",
   "execution_count": 20,
   "id": "b23d8ba7",
   "metadata": {},
   "outputs": [],
   "source": [
    "data = interpolated.copy()"
   ]
  },
  {
   "cell_type": "code",
   "execution_count": 21,
   "id": "38040e6f",
   "metadata": {},
   "outputs": [
    {
     "data": {
      "text/html": [
       "<div>\n",
       "<style scoped>\n",
       "    .dataframe tbody tr th:only-of-type {\n",
       "        vertical-align: middle;\n",
       "    }\n",
       "\n",
       "    .dataframe tbody tr th {\n",
       "        vertical-align: top;\n",
       "    }\n",
       "\n",
       "    .dataframe thead th {\n",
       "        text-align: right;\n",
       "    }\n",
       "</style>\n",
       "<table border=\"1\" class=\"dataframe\">\n",
       "  <thead>\n",
       "    <tr style=\"text-align: right;\">\n",
       "      <th></th>\n",
       "      <th>Sales</th>\n",
       "    </tr>\n",
       "    <tr>\n",
       "      <th>date</th>\n",
       "      <th></th>\n",
       "    </tr>\n",
       "  </thead>\n",
       "  <tbody>\n",
       "    <tr>\n",
       "      <th>1986-01-31</th>\n",
       "      <td>1734.827000</td>\n",
       "    </tr>\n",
       "    <tr>\n",
       "      <th>1986-02-28</th>\n",
       "      <td>1904.871666</td>\n",
       "    </tr>\n",
       "    <tr>\n",
       "      <th>1986-03-31</th>\n",
       "      <td>2074.916332</td>\n",
       "    </tr>\n",
       "    <tr>\n",
       "      <th>1986-04-30</th>\n",
       "      <td>2244.960999</td>\n",
       "    </tr>\n",
       "    <tr>\n",
       "      <th>1986-05-31</th>\n",
       "      <td>2341.242330</td>\n",
       "    </tr>\n",
       "    <tr>\n",
       "      <th>...</th>\n",
       "      <td>...</td>\n",
       "    </tr>\n",
       "    <tr>\n",
       "      <th>1995-12-31</th>\n",
       "      <td>4240.333333</td>\n",
       "    </tr>\n",
       "    <tr>\n",
       "      <th>1996-01-31</th>\n",
       "      <td>4194.000000</td>\n",
       "    </tr>\n",
       "    <tr>\n",
       "      <th>1996-02-29</th>\n",
       "      <td>4547.000000</td>\n",
       "    </tr>\n",
       "    <tr>\n",
       "      <th>1996-03-31</th>\n",
       "      <td>4900.000000</td>\n",
       "    </tr>\n",
       "    <tr>\n",
       "      <th>1996-04-30</th>\n",
       "      <td>5253.000000</td>\n",
       "    </tr>\n",
       "  </tbody>\n",
       "</table>\n",
       "<p>124 rows × 1 columns</p>\n",
       "</div>"
      ],
      "text/plain": [
       "                  Sales\n",
       "date                   \n",
       "1986-01-31  1734.827000\n",
       "1986-02-28  1904.871666\n",
       "1986-03-31  2074.916332\n",
       "1986-04-30  2244.960999\n",
       "1986-05-31  2341.242330\n",
       "...                 ...\n",
       "1995-12-31  4240.333333\n",
       "1996-01-31  4194.000000\n",
       "1996-02-29  4547.000000\n",
       "1996-03-31  4900.000000\n",
       "1996-04-30  5253.000000\n",
       "\n",
       "[124 rows x 1 columns]"
      ]
     },
     "execution_count": 21,
     "metadata": {},
     "output_type": "execute_result"
    }
   ],
   "source": [
    "data"
   ]
  },
  {
   "cell_type": "markdown",
   "id": "8e5be98d",
   "metadata": {},
   "source": [
    "# Time Series Decomposition"
   ]
  },
  {
   "cell_type": "markdown",
   "id": "493110d1",
   "metadata": {},
   "source": [
    "## Additive Seasonal Decomposition"
   ]
  },
  {
   "cell_type": "code",
   "execution_count": 22,
   "id": "4cb0f499",
   "metadata": {},
   "outputs": [
    {
     "data": {
      "image/png": "[encoded data removed]",
      "text/plain": [
       "<Figure size 864x576 with 4 Axes>"
      ]
     },
     "metadata": {
      "needs_background": "light"
     },
     "output_type": "display_data"
    }
   ],
   "source": [
    "from pylab import rcParams\n",
    "import statsmodels.api as sm\n",
    "rcParams['figure.figsize'] = 12,8\n",
    "decomposition = sm.tsa.seasonal_decompose(data['Sales'], model='additive')\n",
    "fig = decomposition.plot()\n",
    "plt.show()"
   ]
  },
  {
   "cell_type": "markdown",
   "id": "70e2a7aa",
   "metadata": {},
   "source": [
    "## Multiplicative Seasonal Decomposition"
   ]
  },
  {
   "cell_type": "code",
   "execution_count": 23,
   "id": "50ff3cdb",
   "metadata": {},
   "outputs": [
    {
     "data": {
      "image/png": "[encoded data removed]",
      "text/plain": [
       "<Figure size 864x576 with 4 Axes>"
      ]
     },
     "metadata": {
      "needs_background": "light"
     },
     "output_type": "display_data"
    }
   ],
   "source": [
    "decomposition = sm.tsa.seasonal_decompose(data['Sales'], model='multiplicative')\n",
    "fig = decomposition.plot()\n",
    "plt.show()"
   ]
  },
  {
   "cell_type": "markdown",
   "id": "dd88cedf",
   "metadata": {},
   "source": [
    "# Spliting the data into Train and Test"
   ]
  },
  {
   "cell_type": "code",
   "execution_count": 24,
   "id": "e16a3bca",
   "metadata": {},
   "outputs": [],
   "source": [
    "train_len = 100\n",
    "train = data[0:train_len]\n",
    "test = data[train_len:]"
   ]
  },
  {
   "cell_type": "code",
   "execution_count": 25,
   "id": "f98eaba7",
   "metadata": {},
   "outputs": [
    {
     "data": {
      "text/html": [
       "<div>\n",
       "<style scoped>\n",
       "    .dataframe tbody tr th:only-of-type {\n",
       "        vertical-align: middle;\n",
       "    }\n",
       "\n",
       "    .dataframe tbody tr th {\n",
       "        vertical-align: top;\n",
       "    }\n",
       "\n",
       "    .dataframe thead th {\n",
       "        text-align: right;\n",
       "    }\n",
       "</style>\n",
       "<table border=\"1\" class=\"dataframe\">\n",
       "  <thead>\n",
       "    <tr style=\"text-align: right;\">\n",
       "      <th></th>\n",
       "      <th>Sales</th>\n",
       "    </tr>\n",
       "    <tr>\n",
       "      <th>date</th>\n",
       "      <th></th>\n",
       "    </tr>\n",
       "  </thead>\n",
       "  <tbody>\n",
       "    <tr>\n",
       "      <th>1986-01-31</th>\n",
       "      <td>1734.827000</td>\n",
       "    </tr>\n",
       "    <tr>\n",
       "      <th>1986-02-28</th>\n",
       "      <td>1904.871666</td>\n",
       "    </tr>\n",
       "    <tr>\n",
       "      <th>1986-03-31</th>\n",
       "      <td>2074.916332</td>\n",
       "    </tr>\n",
       "    <tr>\n",
       "      <th>1986-04-30</th>\n",
       "      <td>2244.960999</td>\n",
       "    </tr>\n",
       "    <tr>\n",
       "      <th>1986-05-31</th>\n",
       "      <td>2341.242330</td>\n",
       "    </tr>\n",
       "  </tbody>\n",
       "</table>\n",
       "</div>"
      ],
      "text/plain": [
       "                  Sales\n",
       "date                   \n",
       "1986-01-31  1734.827000\n",
       "1986-02-28  1904.871666\n",
       "1986-03-31  2074.916332\n",
       "1986-04-30  2244.960999\n",
       "1986-05-31  2341.242330"
      ]
     },
     "execution_count": 25,
     "metadata": {},
     "output_type": "execute_result"
    }
   ],
   "source": [
    "train.head()"
   ]
  },
  {
   "cell_type": "code",
   "execution_count": 26,
   "id": "8f23abc5",
   "metadata": {},
   "outputs": [
    {
     "data": {
      "text/html": [
       "<div>\n",
       "<style scoped>\n",
       "    .dataframe tbody tr th:only-of-type {\n",
       "        vertical-align: middle;\n",
       "    }\n",
       "\n",
       "    .dataframe tbody tr th {\n",
       "        vertical-align: top;\n",
       "    }\n",
       "\n",
       "    .dataframe thead th {\n",
       "        text-align: right;\n",
       "    }\n",
       "</style>\n",
       "<table border=\"1\" class=\"dataframe\">\n",
       "  <thead>\n",
       "    <tr style=\"text-align: right;\">\n",
       "      <th></th>\n",
       "      <th>Sales</th>\n",
       "    </tr>\n",
       "    <tr>\n",
       "      <th>date</th>\n",
       "      <th></th>\n",
       "    </tr>\n",
       "  </thead>\n",
       "  <tbody>\n",
       "    <tr>\n",
       "      <th>1994-05-31</th>\n",
       "      <td>4381.666667</td>\n",
       "    </tr>\n",
       "    <tr>\n",
       "      <th>1994-06-30</th>\n",
       "      <td>4421.333333</td>\n",
       "    </tr>\n",
       "    <tr>\n",
       "      <th>1994-07-31</th>\n",
       "      <td>4461.000000</td>\n",
       "    </tr>\n",
       "    <tr>\n",
       "      <th>1994-08-31</th>\n",
       "      <td>4313.000000</td>\n",
       "    </tr>\n",
       "    <tr>\n",
       "      <th>1994-09-30</th>\n",
       "      <td>4165.000000</td>\n",
       "    </tr>\n",
       "  </tbody>\n",
       "</table>\n",
       "</div>"
      ],
      "text/plain": [
       "                  Sales\n",
       "date                   \n",
       "1994-05-31  4381.666667\n",
       "1994-06-30  4421.333333\n",
       "1994-07-31  4461.000000\n",
       "1994-08-31  4313.000000\n",
       "1994-09-30  4165.000000"
      ]
     },
     "execution_count": 26,
     "metadata": {},
     "output_type": "execute_result"
    }
   ],
   "source": [
    "test.head()"
   ]
  },
  {
   "cell_type": "markdown",
   "id": "756360c4",
   "metadata": {},
   "source": [
    "# Simple Average Method"
   ]
  },
  {
   "cell_type": "code",
   "execution_count": 27,
   "id": "aaab469d",
   "metadata": {},
   "outputs": [],
   "source": [
    "y_hat_avg = test.copy()"
   ]
  },
  {
   "cell_type": "code",
   "execution_count": 28,
   "id": "2a477250",
   "metadata": {},
   "outputs": [],
   "source": [
    "y_hat_avg['avg_forecast'] = train['Sales'].mean()"
   ]
  },
  {
   "cell_type": "code",
   "execution_count": 29,
   "id": "e55f5b38",
   "metadata": {},
   "outputs": [
    {
     "data": {
      "text/html": [
       "<div>\n",
       "<style scoped>\n",
       "    .dataframe tbody tr th:only-of-type {\n",
       "        vertical-align: middle;\n",
       "    }\n",
       "\n",
       "    .dataframe tbody tr th {\n",
       "        vertical-align: top;\n",
       "    }\n",
       "\n",
       "    .dataframe thead th {\n",
       "        text-align: right;\n",
       "    }\n",
       "</style>\n",
       "<table border=\"1\" class=\"dataframe\">\n",
       "  <thead>\n",
       "    <tr style=\"text-align: right;\">\n",
       "      <th></th>\n",
       "      <th>Sales</th>\n",
       "      <th>avg_forecast</th>\n",
       "    </tr>\n",
       "    <tr>\n",
       "      <th>date</th>\n",
       "      <th></th>\n",
       "      <th></th>\n",
       "    </tr>\n",
       "  </thead>\n",
       "  <tbody>\n",
       "    <tr>\n",
       "      <th>1994-05-31</th>\n",
       "      <td>4381.666667</td>\n",
       "      <td>2633.826898</td>\n",
       "    </tr>\n",
       "    <tr>\n",
       "      <th>1994-06-30</th>\n",
       "      <td>4421.333333</td>\n",
       "      <td>2633.826898</td>\n",
       "    </tr>\n",
       "    <tr>\n",
       "      <th>1994-07-31</th>\n",
       "      <td>4461.000000</td>\n",
       "      <td>2633.826898</td>\n",
       "    </tr>\n",
       "    <tr>\n",
       "      <th>1994-08-31</th>\n",
       "      <td>4313.000000</td>\n",
       "      <td>2633.826898</td>\n",
       "    </tr>\n",
       "    <tr>\n",
       "      <th>1994-09-30</th>\n",
       "      <td>4165.000000</td>\n",
       "      <td>2633.826898</td>\n",
       "    </tr>\n",
       "  </tbody>\n",
       "</table>\n",
       "</div>"
      ],
      "text/plain": [
       "                  Sales  avg_forecast\n",
       "date                                 \n",
       "1994-05-31  4381.666667   2633.826898\n",
       "1994-06-30  4421.333333   2633.826898\n",
       "1994-07-31  4461.000000   2633.826898\n",
       "1994-08-31  4313.000000   2633.826898\n",
       "1994-09-30  4165.000000   2633.826898"
      ]
     },
     "execution_count": 29,
     "metadata": {},
     "output_type": "execute_result"
    }
   ],
   "source": [
    "y_hat_avg.head()"
   ]
  },
  {
   "cell_type": "code",
   "execution_count": 30,
   "id": "7553bb5e",
   "metadata": {},
   "outputs": [
    {
     "data": {
      "image/png": "[encoded data removed]",
      "text/plain": [
       "<Figure size 864x288 with 1 Axes>"
      ]
     },
     "metadata": {
      "needs_background": "light"
     },
     "output_type": "display_data"
    }
   ],
   "source": [
    "plt.figure(figsize=(12,4))\n",
    "plt.plot(train['Sales'], label='Train')\n",
    "plt.plot(test['Sales'], label='test')\n",
    "plt.plot(y_hat_avg['avg_forecast'], label='Simple average forecast')\n",
    "plt.legend(loc='best')\n",
    "plt.show()"
   ]
  },
  {
   "cell_type": "markdown",
   "id": "faba8820",
   "metadata": {},
   "source": [
    "# Calculating RMSE and MAPE Score For Simple Average Method"
   ]
  },
  {
   "cell_type": "code",
   "execution_count": 31,
   "id": "1f4a0766",
   "metadata": {},
   "outputs": [],
   "source": [
    "from sklearn.metrics import mean_squared_error"
   ]
  },
  {
   "cell_type": "markdown",
   "id": "e4bc1043",
   "metadata": {},
   "source": [
    "# RMSE"
   ]
  },
  {
   "cell_type": "code",
   "execution_count": 32,
   "id": "6d219170",
   "metadata": {},
   "outputs": [
    {
     "data": {
      "text/plain": [
       "1857.28"
      ]
     },
     "execution_count": 32,
     "metadata": {},
     "output_type": "execute_result"
    }
   ],
   "source": [
    "rmse = np.sqrt(mean_squared_error(test['Sales'], y_hat_avg['avg_forecast'])).round(2)\n",
    "rmse"
   ]
  },
  {
   "cell_type": "markdown",
   "id": "978bb314",
   "metadata": {},
   "source": [
    "# MAPE Score"
   ]
  },
  {
   "cell_type": "code",
   "execution_count": 33,
   "id": "37b48641",
   "metadata": {},
   "outputs": [
    {
     "data": {
      "text/plain": [
       "40.49"
      ]
     },
     "execution_count": 33,
     "metadata": {},
     "output_type": "execute_result"
    }
   ],
   "source": [
    "mape = round(np.mean(np.abs((test['Sales'] - y_hat_avg['avg_forecast'])/test['Sales'])*100),2)\n",
    "mape"
   ]
  },
  {
   "cell_type": "code",
   "execution_count": 34,
   "id": "1ba2f6bc",
   "metadata": {},
   "outputs": [
    {
     "data": {
      "text/html": [
       "<div>\n",
       "<style scoped>\n",
       "    .dataframe tbody tr th:only-of-type {\n",
       "        vertical-align: middle;\n",
       "    }\n",
       "\n",
       "    .dataframe tbody tr th {\n",
       "        vertical-align: top;\n",
       "    }\n",
       "\n",
       "    .dataframe thead th {\n",
       "        text-align: right;\n",
       "    }\n",
       "</style>\n",
       "<table border=\"1\" class=\"dataframe\">\n",
       "  <thead>\n",
       "    <tr style=\"text-align: right;\">\n",
       "      <th></th>\n",
       "      <th>Method</th>\n",
       "      <th>RMSE</th>\n",
       "      <th>MAPE</th>\n",
       "    </tr>\n",
       "  </thead>\n",
       "  <tbody>\n",
       "    <tr>\n",
       "      <th>0</th>\n",
       "      <td>Simple Average Method</td>\n",
       "      <td>1857.28</td>\n",
       "      <td>40.49</td>\n",
       "    </tr>\n",
       "  </tbody>\n",
       "</table>\n",
       "</div>"
      ],
      "text/plain": [
       "                  Method     RMSE   MAPE\n",
       "0  Simple Average Method  1857.28  40.49"
      ]
     },
     "execution_count": 34,
     "metadata": {},
     "output_type": "execute_result"
    }
   ],
   "source": [
    "results = pd.DataFrame({'Method':['Simple Average Method'], 'RMSE':[rmse], 'MAPE':[mape]})\n",
    "results"
   ]
  },
  {
   "cell_type": "markdown",
   "id": "82fd63a1",
   "metadata": {},
   "source": [
    "# Simple Moving Average Method"
   ]
  },
  {
   "cell_type": "code",
   "execution_count": 35,
   "id": "4266e180",
   "metadata": {},
   "outputs": [],
   "source": [
    "y_hat_sma = data.copy()"
   ]
  },
  {
   "cell_type": "code",
   "execution_count": 36,
   "id": "072e32a0",
   "metadata": {},
   "outputs": [],
   "source": [
    "ma_window = 12"
   ]
  },
  {
   "cell_type": "code",
   "execution_count": 37,
   "id": "7b88c231",
   "metadata": {},
   "outputs": [],
   "source": [
    "y_hat_sma['sma_forecast'] = data['Sales'].rolling(ma_window).mean()"
   ]
  },
  {
   "cell_type": "code",
   "execution_count": 38,
   "id": "064eef16",
   "metadata": {},
   "outputs": [],
   "source": [
    "y_hat_sma['sma_forecast'][train_len:] = y_hat_sma['sma_forecast'][train_len-1]"
   ]
  },
  {
   "cell_type": "code",
   "execution_count": 39,
   "id": "91e49eb5",
   "metadata": {},
   "outputs": [
    {
     "data": {
      "image/png": "[encoded data removed]",
      "text/plain": [
       "<Figure size 864x288 with 1 Axes>"
      ]
     },
     "metadata": {
      "needs_background": "light"
     },
     "output_type": "display_data"
    }
   ],
   "source": [
    "plt.figure(figsize=(12,4))\n",
    "plt.plot(train['Sales'], label='Train')\n",
    "plt.plot(test['Sales'], label='test')\n",
    "plt.plot(y_hat_sma['sma_forecast'], label='Simple moving average forecast')\n",
    "plt.legend(loc='best')\n",
    "plt.show()"
   ]
  },
  {
   "cell_type": "markdown",
   "id": "8bfbf046",
   "metadata": {},
   "source": [
    "# RMSE"
   ]
  },
  {
   "cell_type": "code",
   "execution_count": 40,
   "id": "6cc1ac1e",
   "metadata": {},
   "outputs": [
    {
     "data": {
      "text/plain": [
       "895.54"
      ]
     },
     "execution_count": 40,
     "metadata": {},
     "output_type": "execute_result"
    }
   ],
   "source": [
    "rmse = np.sqrt(mean_squared_error(test['Sales'], y_hat_sma['sma_forecast'][train_len:])).round(2)\n",
    "rmse"
   ]
  },
  {
   "cell_type": "markdown",
   "id": "7f481188",
   "metadata": {},
   "source": [
    "# MAPE Score"
   ]
  },
  {
   "cell_type": "code",
   "execution_count": 41,
   "id": "1e579f9e",
   "metadata": {},
   "outputs": [
    {
     "data": {
      "text/plain": [
       "17.82"
      ]
     },
     "execution_count": 41,
     "metadata": {},
     "output_type": "execute_result"
    }
   ],
   "source": [
    "mape = round(np.mean(np.abs((test['Sales'] - y_hat_sma['sma_forecast'][train_len:])/test['Sales'])*100),2)\n",
    "mape"
   ]
  },
  {
   "cell_type": "code",
   "execution_count": 42,
   "id": "e0ff1fd7",
   "metadata": {},
   "outputs": [
    {
     "data": {
      "text/html": [
       "<div>\n",
       "<style scoped>\n",
       "    .dataframe tbody tr th:only-of-type {\n",
       "        vertical-align: middle;\n",
       "    }\n",
       "\n",
       "    .dataframe tbody tr th {\n",
       "        vertical-align: top;\n",
       "    }\n",
       "\n",
       "    .dataframe thead th {\n",
       "        text-align: right;\n",
       "    }\n",
       "</style>\n",
       "<table border=\"1\" class=\"dataframe\">\n",
       "  <thead>\n",
       "    <tr style=\"text-align: right;\">\n",
       "      <th></th>\n",
       "      <th>Method</th>\n",
       "      <th>RMSE</th>\n",
       "      <th>MAPE</th>\n",
       "    </tr>\n",
       "  </thead>\n",
       "  <tbody>\n",
       "    <tr>\n",
       "      <th>0</th>\n",
       "      <td>Simple Average Method</td>\n",
       "      <td>1857.28</td>\n",
       "      <td>40.49</td>\n",
       "    </tr>\n",
       "    <tr>\n",
       "      <th>1</th>\n",
       "      <td>Simple moving average method</td>\n",
       "      <td>895.54</td>\n",
       "      <td>17.82</td>\n",
       "    </tr>\n",
       "  </tbody>\n",
       "</table>\n",
       "</div>"
      ],
      "text/plain": [
       "                         Method     RMSE   MAPE\n",
       "0         Simple Average Method  1857.28  40.49\n",
       "1  Simple moving average method   895.54  17.82"
      ]
     },
     "execution_count": 42,
     "metadata": {},
     "output_type": "execute_result"
    }
   ],
   "source": [
    "results = results.append({'Method':'Simple moving average method', 'RMSE':rmse, 'MAPE':mape}, ignore_index=True)\n",
    "results"
   ]
  },
  {
   "cell_type": "code",
   "execution_count": 43,
   "id": "5c61fbfb",
   "metadata": {},
   "outputs": [
    {
     "data": {
      "image/png": "[encoded data removed]",
      "text/plain": [
       "<Figure size 864x288 with 1 Axes>"
      ]
     },
     "metadata": {
      "needs_background": "light"
     },
     "output_type": "display_data"
    }
   ],
   "source": [
    "ma_window = 6\n",
    "y_hat_sma['sma_forecast'] = data['Sales'].rolling(ma_window).mean()\n",
    "y_hat_sma['sma_forecast'][train_len:] = y_hat_sma['sma_forecast'][train_len-1]\n",
    "plt.figure(figsize=(12,4))\n",
    "plt.plot(train['Sales'], label='Train')\n",
    "plt.plot(test['Sales'], label='test')\n",
    "plt.plot(y_hat_sma['sma_forecast'], label='Simple moving average forecast')\n",
    "plt.legend(loc='best')\n",
    "plt.show()"
   ]
  },
  {
   "cell_type": "code",
   "execution_count": 44,
   "id": "a1dfbc34",
   "metadata": {},
   "outputs": [
    {
     "data": {
      "image/png": "[encoded data removed]",
      "text/plain": [
       "<Figure size 864x288 with 1 Axes>"
      ]
     },
     "metadata": {
      "needs_background": "light"
     },
     "output_type": "display_data"
    }
   ],
   "source": [
    "ma_window = 3\n",
    "y_hat_sma['sma_forecast'] = data['Sales'].rolling(ma_window).mean()\n",
    "y_hat_sma['sma_forecast'][train_len:] = y_hat_sma['sma_forecast'][train_len-1]\n",
    "plt.figure(figsize=(12,4))\n",
    "plt.plot(train['Sales'], label='Train')\n",
    "plt.plot(test['Sales'], label='test')\n",
    "plt.plot(y_hat_sma['sma_forecast'], label='Simple moving average forecast')\n",
    "plt.legend(loc='best')\n",
    "plt.show()\n"
   ]
  },
  {
   "cell_type": "markdown",
   "id": "0b46cc6a",
   "metadata": {},
   "source": [
    "# Simple Exponential Smoothning"
   ]
  },
  {
   "cell_type": "code",
   "execution_count": 45,
   "id": "eb4f9784",
   "metadata": {},
   "outputs": [],
   "source": [
    "from statsmodels.tsa.holtwinters import SimpleExpSmoothing"
   ]
  },
  {
   "cell_type": "code",
   "execution_count": 46,
   "id": "7e38e3c9",
   "metadata": {},
   "outputs": [
    {
     "data": {
      "text/plain": [
       "{'smoothing_level': 0.2,\n",
       " 'smoothing_trend': nan,\n",
       " 'smoothing_seasonal': nan,\n",
       " 'damping_trend': nan,\n",
       " 'initial_level': 2068.189967803788,\n",
       " 'initial_trend': nan,\n",
       " 'initial_seasons': array([], dtype=float64),\n",
       " 'use_boxcox': False,\n",
       " 'lamda': None,\n",
       " 'remove_bias': False}"
      ]
     },
     "execution_count": 46,
     "metadata": {},
     "output_type": "execute_result"
    }
   ],
   "source": [
    "# Instantiate the model\n",
    "model = SimpleExpSmoothing(train['Sales'])\n",
    "# Fit the model with alpha = 0.2 \n",
    "# optimized = False means, we are explicitly definign the smoothing_level.\n",
    "# optimized = True means - Automitacially it will define a smoothing_level based on RMSE\n",
    "model_fit = model.fit(smoothing_level = 0.2, optimized=True)\n",
    "model_fit.params"
   ]
  },
  {
   "cell_type": "code",
   "execution_count": 47,
   "id": "cbab6af4",
   "metadata": {},
   "outputs": [],
   "source": [
    "y_hat_ses = test.copy()\n",
    "y_hat_ses['ses_forecast'] = model_fit.forecast(24)"
   ]
  },
  {
   "cell_type": "code",
   "execution_count": 48,
   "id": "72dd96f2",
   "metadata": {},
   "outputs": [
    {
     "data": {
      "image/png": "[encoded data removed]",
      "text/plain": [
       "<Figure size 864x288 with 1 Axes>"
      ]
     },
     "metadata": {
      "needs_background": "light"
     },
     "output_type": "display_data"
    }
   ],
   "source": [
    "plt.figure(figsize=(12,4))\n",
    "plt.plot(train['Sales'], label='Train')\n",
    "plt.plot(test['Sales'], label='test')\n",
    "plt.plot(y_hat_ses['ses_forecast'], label='Simple exponential smoothing forcast')\n",
    "plt.legend(loc='best')\n",
    "plt.show()"
   ]
  },
  {
   "cell_type": "markdown",
   "id": "bc2bf8f0",
   "metadata": {},
   "source": [
    "# RMSE"
   ]
  },
  {
   "cell_type": "code",
   "execution_count": 49,
   "id": "68591cb3",
   "metadata": {},
   "outputs": [
    {
     "data": {
      "text/plain": [
       "802.75"
      ]
     },
     "execution_count": 49,
     "metadata": {},
     "output_type": "execute_result"
    }
   ],
   "source": [
    "rmse = np.sqrt(mean_squared_error(test['Sales'], y_hat_ses['ses_forecast'])).round(2)\n",
    "rmse"
   ]
  },
  {
   "cell_type": "markdown",
   "id": "23e10f14",
   "metadata": {},
   "source": [
    "# MAPE Score"
   ]
  },
  {
   "cell_type": "code",
   "execution_count": 50,
   "id": "94464b77",
   "metadata": {},
   "outputs": [
    {
     "data": {
      "text/plain": [
       "15.49"
      ]
     },
     "execution_count": 50,
     "metadata": {},
     "output_type": "execute_result"
    }
   ],
   "source": [
    "mape = round(np.mean(np.abs((test['Sales'] - y_hat_ses['ses_forecast'])/test['Sales'])*100),2)\n",
    "mape"
   ]
  },
  {
   "cell_type": "code",
   "execution_count": 51,
   "id": "a21c2e66",
   "metadata": {},
   "outputs": [
    {
     "data": {
      "text/html": [
       "<div>\n",
       "<style scoped>\n",
       "    .dataframe tbody tr th:only-of-type {\n",
       "        vertical-align: middle;\n",
       "    }\n",
       "\n",
       "    .dataframe tbody tr th {\n",
       "        vertical-align: top;\n",
       "    }\n",
       "\n",
       "    .dataframe thead th {\n",
       "        text-align: right;\n",
       "    }\n",
       "</style>\n",
       "<table border=\"1\" class=\"dataframe\">\n",
       "  <thead>\n",
       "    <tr style=\"text-align: right;\">\n",
       "      <th></th>\n",
       "      <th>Method</th>\n",
       "      <th>RMSE</th>\n",
       "      <th>MAPE</th>\n",
       "    </tr>\n",
       "  </thead>\n",
       "  <tbody>\n",
       "    <tr>\n",
       "      <th>0</th>\n",
       "      <td>Simple Average Method</td>\n",
       "      <td>1857.28</td>\n",
       "      <td>40.49</td>\n",
       "    </tr>\n",
       "    <tr>\n",
       "      <th>1</th>\n",
       "      <td>Simple moving average method</td>\n",
       "      <td>895.54</td>\n",
       "      <td>17.82</td>\n",
       "    </tr>\n",
       "    <tr>\n",
       "      <th>2</th>\n",
       "      <td>Simple exponential smoothing method</td>\n",
       "      <td>802.75</td>\n",
       "      <td>15.49</td>\n",
       "    </tr>\n",
       "  </tbody>\n",
       "</table>\n",
       "</div>"
      ],
      "text/plain": [
       "                                Method     RMSE   MAPE\n",
       "0                Simple Average Method  1857.28  40.49\n",
       "1         Simple moving average method   895.54  17.82\n",
       "2  Simple exponential smoothing method   802.75  15.49"
      ]
     },
     "execution_count": 51,
     "metadata": {},
     "output_type": "execute_result"
    }
   ],
   "source": [
    "results = results.append({'Method':'Simple exponential smoothing method', 'RMSE':rmse, 'MAPE':mape}, ignore_index=True)\n",
    "results"
   ]
  },
  {
   "cell_type": "markdown",
   "id": "9fb8bf4d",
   "metadata": {},
   "source": [
    "# Holt's Exponential Smoothing"
   ]
  },
  {
   "cell_type": "code",
   "execution_count": 52,
   "id": "34914a38",
   "metadata": {},
   "outputs": [],
   "source": [
    "from statsmodels.tsa.holtwinters import ExponentialSmoothing"
   ]
  },
  {
   "cell_type": "code",
   "execution_count": 53,
   "id": "c7099f73",
   "metadata": {},
   "outputs": [],
   "source": [
    "model = ExponentialSmoothing(np.asarray(train['Sales']), seasonal_periods = 12, trend='additive', seasonal=None)"
   ]
  },
  {
   "cell_type": "code",
   "execution_count": 54,
   "id": "25decc83",
   "metadata": {},
   "outputs": [
    {
     "data": {
      "text/plain": [
       "{'smoothing_level': 0.2,\n",
       " 'smoothing_trend': 0.01,\n",
       " 'smoothing_seasonal': nan,\n",
       " 'damping_trend': nan,\n",
       " 'initial_level': 1983.4659985481667,\n",
       " 'initial_trend': 16.832141258699508,\n",
       " 'initial_seasons': array([], dtype=float64),\n",
       " 'use_boxcox': False,\n",
       " 'lamda': None,\n",
       " 'remove_bias': False}"
      ]
     },
     "execution_count": 54,
     "metadata": {},
     "output_type": "execute_result"
    }
   ],
   "source": [
    "model_fit = model.fit(smoothing_level = 0.2, smoothing_slope = 0.01, optimized=True)\n",
    "model_fit.params"
   ]
  },
  {
   "cell_type": "code",
   "execution_count": 55,
   "id": "52608245",
   "metadata": {},
   "outputs": [],
   "source": [
    "y_hat_holt = test.copy()\n",
    "# We are forecasting for next 24 months\n",
    "y_hat_holt['holt_forecast'] = model_fit.forecast(24)"
   ]
  },
  {
   "cell_type": "code",
   "execution_count": 56,
   "id": "4069e54e",
   "metadata": {},
   "outputs": [
    {
     "data": {
      "image/png": "[encoded data removed]",
      "text/plain": [
       "<Figure size 864x288 with 1 Axes>"
      ]
     },
     "metadata": {
      "needs_background": "light"
     },
     "output_type": "display_data"
    }
   ],
   "source": [
    "plt.figure(figsize=(12,4))\n",
    "plt.plot(train['Sales'], label='Train')\n",
    "plt.plot(test['Sales'], label='test')\n",
    "plt.plot(y_hat_holt['holt_forecast'], label='Holt\\'s exponential smoothing forcast')\n",
    "plt.legend(loc='best')\n",
    "plt.show()"
   ]
  },
  {
   "cell_type": "markdown",
   "id": "5ac38f00",
   "metadata": {},
   "source": [
    "# RMSE"
   ]
  },
  {
   "cell_type": "code",
   "execution_count": 57,
   "id": "83124e37",
   "metadata": {},
   "outputs": [
    {
     "data": {
      "text/plain": [
       "516.39"
      ]
     },
     "execution_count": 57,
     "metadata": {},
     "output_type": "execute_result"
    }
   ],
   "source": [
    "rmse = np.sqrt(mean_squared_error(test['Sales'], y_hat_holt['holt_forecast'])).round(2)\n",
    "rmse"
   ]
  },
  {
   "cell_type": "markdown",
   "id": "d20ed061",
   "metadata": {},
   "source": [
    "# MAPE Score"
   ]
  },
  {
   "cell_type": "code",
   "execution_count": 58,
   "id": "f863ea73",
   "metadata": {},
   "outputs": [
    {
     "data": {
      "text/plain": [
       "8.94"
      ]
     },
     "execution_count": 58,
     "metadata": {},
     "output_type": "execute_result"
    }
   ],
   "source": [
    "mape = round(np.mean(np.abs((test['Sales'] - y_hat_holt['holt_forecast'])/test['Sales'])*100),2)\n",
    "mape"
   ]
  },
  {
   "cell_type": "code",
   "execution_count": 59,
   "id": "d4a33b9f",
   "metadata": {},
   "outputs": [
    {
     "data": {
      "text/html": [
       "<div>\n",
       "<style scoped>\n",
       "    .dataframe tbody tr th:only-of-type {\n",
       "        vertical-align: middle;\n",
       "    }\n",
       "\n",
       "    .dataframe tbody tr th {\n",
       "        vertical-align: top;\n",
       "    }\n",
       "\n",
       "    .dataframe thead th {\n",
       "        text-align: right;\n",
       "    }\n",
       "</style>\n",
       "<table border=\"1\" class=\"dataframe\">\n",
       "  <thead>\n",
       "    <tr style=\"text-align: right;\">\n",
       "      <th></th>\n",
       "      <th>Method</th>\n",
       "      <th>RMSE</th>\n",
       "      <th>MAPE</th>\n",
       "    </tr>\n",
       "  </thead>\n",
       "  <tbody>\n",
       "    <tr>\n",
       "      <th>0</th>\n",
       "      <td>Simple Average Method</td>\n",
       "      <td>1857.28</td>\n",
       "      <td>40.49</td>\n",
       "    </tr>\n",
       "    <tr>\n",
       "      <th>1</th>\n",
       "      <td>Simple moving average method</td>\n",
       "      <td>895.54</td>\n",
       "      <td>17.82</td>\n",
       "    </tr>\n",
       "    <tr>\n",
       "      <th>2</th>\n",
       "      <td>Simple exponential smoothing method</td>\n",
       "      <td>802.75</td>\n",
       "      <td>15.49</td>\n",
       "    </tr>\n",
       "    <tr>\n",
       "      <th>3</th>\n",
       "      <td>Holt's exponential smoothing method</td>\n",
       "      <td>516.39</td>\n",
       "      <td>8.94</td>\n",
       "    </tr>\n",
       "  </tbody>\n",
       "</table>\n",
       "</div>"
      ],
      "text/plain": [
       "                                Method     RMSE   MAPE\n",
       "0                Simple Average Method  1857.28  40.49\n",
       "1         Simple moving average method   895.54  17.82\n",
       "2  Simple exponential smoothing method   802.75  15.49\n",
       "3  Holt's exponential smoothing method   516.39   8.94"
      ]
     },
     "execution_count": 59,
     "metadata": {},
     "output_type": "execute_result"
    }
   ],
   "source": [
    "results = results.append({'Method':'Holt\\'s exponential smoothing method', 'RMSE':rmse, 'MAPE':mape}, ignore_index=True)\n",
    "results"
   ]
  },
  {
   "cell_type": "markdown",
   "id": "70e601f0",
   "metadata": {},
   "source": [
    "# Holt-Winters's Exponential Smoothing"
   ]
  },
  {
   "cell_type": "markdown",
   "id": "dd54cfaf",
   "metadata": {},
   "source": [
    "## Additive Method"
   ]
  },
  {
   "cell_type": "code",
   "execution_count": 60,
   "id": "1657a573",
   "metadata": {},
   "outputs": [],
   "source": [
    "y_hat_hwa = test.copy()"
   ]
  },
  {
   "cell_type": "code",
   "execution_count": 61,
   "id": "02530fee",
   "metadata": {},
   "outputs": [],
   "source": [
    "model = ExponentialSmoothing(np.asarray(train['Sales']), seasonal_periods = 12, trend='additive', seasonal='additive')"
   ]
  },
  {
   "cell_type": "code",
   "execution_count": 62,
   "id": "2b7c73c3",
   "metadata": {},
   "outputs": [],
   "source": [
    "model_fit = model.fit(optimized=True)"
   ]
  },
  {
   "cell_type": "code",
   "execution_count": 63,
   "id": "4c027e6f",
   "metadata": {},
   "outputs": [
    {
     "data": {
      "text/plain": [
       "{'smoothing_level': 0.9255066519828545,\n",
       " 'smoothing_trend': 0.9106397388403635,\n",
       " 'smoothing_seasonal': 0.06316606884714494,\n",
       " 'damping_trend': nan,\n",
       " 'initial_level': 2342.9106593385814,\n",
       " 'initial_trend': -4.688567402987162,\n",
       " 'initial_seasons': array([-585.83333316, -407.67536179, -200.53029898,   18.59663999,\n",
       "          52.78979111,   84.78698271,   97.95658643,   23.46449634,\n",
       "         -78.86824447, -192.10423943, -326.74475581, -472.04079423]),\n",
       " 'use_boxcox': False,\n",
       " 'lamda': None,\n",
       " 'remove_bias': False}"
      ]
     },
     "execution_count": 63,
     "metadata": {},
     "output_type": "execute_result"
    }
   ],
   "source": [
    "model_fit.params"
   ]
  },
  {
   "cell_type": "code",
   "execution_count": 64,
   "id": "d9113cfc",
   "metadata": {},
   "outputs": [],
   "source": [
    "y_hat_hwa['hwa_forecast'] = model_fit.forecast(24)"
   ]
  },
  {
   "cell_type": "code",
   "execution_count": 65,
   "id": "66e66c65",
   "metadata": {},
   "outputs": [
    {
     "data": {
      "image/png": "[encoded data removed]",
      "text/plain": [
       "<Figure size 864x288 with 1 Axes>"
      ]
     },
     "metadata": {
      "needs_background": "light"
     },
     "output_type": "display_data"
    }
   ],
   "source": [
    "plt.figure(figsize=(12,4))\n",
    "plt.plot(train['Sales'], label='Train')\n",
    "plt.plot(test['Sales'], label='test')\n",
    "plt.plot(y_hat_hwa['hwa_forecast'], label='Holt\\'s Winters additive exponential smoothing forcast')\n",
    "plt.legend(loc='best')\n",
    "plt.show()"
   ]
  },
  {
   "cell_type": "markdown",
   "id": "aa034060",
   "metadata": {},
   "source": [
    "# RMSE"
   ]
  },
  {
   "cell_type": "code",
   "execution_count": 66,
   "id": "06cf387e",
   "metadata": {},
   "outputs": [
    {
     "data": {
      "text/plain": [
       "1147.28"
      ]
     },
     "execution_count": 66,
     "metadata": {},
     "output_type": "execute_result"
    }
   ],
   "source": [
    "rmse = np.sqrt(mean_squared_error(test['Sales'], y_hat_hwa['hwa_forecast'])).round(2)\n",
    "rmse"
   ]
  },
  {
   "cell_type": "markdown",
   "id": "cbe182d1",
   "metadata": {},
   "source": [
    "# MAPE Score"
   ]
  },
  {
   "cell_type": "code",
   "execution_count": 67,
   "id": "09208e35",
   "metadata": {},
   "outputs": [
    {
     "data": {
      "text/plain": [
       "22.93"
      ]
     },
     "execution_count": 67,
     "metadata": {},
     "output_type": "execute_result"
    }
   ],
   "source": [
    "mape = round(np.mean(np.abs((test['Sales'] - y_hat_hwa['hwa_forecast'])/test['Sales'])*100),2)\n",
    "mape"
   ]
  },
  {
   "cell_type": "code",
   "execution_count": 68,
   "id": "a7d94e1d",
   "metadata": {},
   "outputs": [
    {
     "data": {
      "text/html": [
       "<div>\n",
       "<style scoped>\n",
       "    .dataframe tbody tr th:only-of-type {\n",
       "        vertical-align: middle;\n",
       "    }\n",
       "\n",
       "    .dataframe tbody tr th {\n",
       "        vertical-align: top;\n",
       "    }\n",
       "\n",
       "    .dataframe thead th {\n",
       "        text-align: right;\n",
       "    }\n",
       "</style>\n",
       "<table border=\"1\" class=\"dataframe\">\n",
       "  <thead>\n",
       "    <tr style=\"text-align: right;\">\n",
       "      <th></th>\n",
       "      <th>Method</th>\n",
       "      <th>RMSE</th>\n",
       "      <th>MAPE</th>\n",
       "    </tr>\n",
       "  </thead>\n",
       "  <tbody>\n",
       "    <tr>\n",
       "      <th>0</th>\n",
       "      <td>Simple Average Method</td>\n",
       "      <td>1857.28</td>\n",
       "      <td>40.49</td>\n",
       "    </tr>\n",
       "    <tr>\n",
       "      <th>1</th>\n",
       "      <td>Simple moving average method</td>\n",
       "      <td>895.54</td>\n",
       "      <td>17.82</td>\n",
       "    </tr>\n",
       "    <tr>\n",
       "      <th>2</th>\n",
       "      <td>Simple exponential smoothing method</td>\n",
       "      <td>802.75</td>\n",
       "      <td>15.49</td>\n",
       "    </tr>\n",
       "    <tr>\n",
       "      <th>3</th>\n",
       "      <td>Holt's exponential smoothing method</td>\n",
       "      <td>516.39</td>\n",
       "      <td>8.94</td>\n",
       "    </tr>\n",
       "    <tr>\n",
       "      <th>4</th>\n",
       "      <td>Holt's Winter additive method</td>\n",
       "      <td>1147.28</td>\n",
       "      <td>22.93</td>\n",
       "    </tr>\n",
       "  </tbody>\n",
       "</table>\n",
       "</div>"
      ],
      "text/plain": [
       "                                Method     RMSE   MAPE\n",
       "0                Simple Average Method  1857.28  40.49\n",
       "1         Simple moving average method   895.54  17.82\n",
       "2  Simple exponential smoothing method   802.75  15.49\n",
       "3  Holt's exponential smoothing method   516.39   8.94\n",
       "4        Holt's Winter additive method  1147.28  22.93"
      ]
     },
     "execution_count": 68,
     "metadata": {},
     "output_type": "execute_result"
    }
   ],
   "source": [
    "results = results.append({'Method':'Holt\\'s Winter additive method', 'RMSE':rmse, 'MAPE':mape}, ignore_index=True)\n",
    "results"
   ]
  },
  {
   "cell_type": "markdown",
   "id": "cdcaae22",
   "metadata": {},
   "source": [
    "## Multiplicative Method"
   ]
  },
  {
   "cell_type": "code",
   "execution_count": 69,
   "id": "f8542eff",
   "metadata": {},
   "outputs": [],
   "source": [
    "y_hat_hwm = test.copy()"
   ]
  },
  {
   "cell_type": "code",
   "execution_count": 70,
   "id": "059bdd43",
   "metadata": {},
   "outputs": [],
   "source": [
    "model = ExponentialSmoothing(np.asarray(train['Sales']), seasonal_periods = 12, trend='add', seasonal='mul')"
   ]
  },
  {
   "cell_type": "code",
   "execution_count": 71,
   "id": "0f14449c",
   "metadata": {},
   "outputs": [],
   "source": [
    "model_fit = model.fit(optimized=True)"
   ]
  },
  {
   "cell_type": "code",
   "execution_count": 72,
   "id": "f0f888ce",
   "metadata": {},
   "outputs": [
    {
     "data": {
      "text/plain": [
       "{'smoothing_level': 0.9644220717878659,\n",
       " 'smoothing_trend': 0.9644219789581836,\n",
       " 'smoothing_seasonal': 0.02509166422254505,\n",
       " 'damping_trend': nan,\n",
       " 'initial_level': 2230.295816819028,\n",
       " 'initial_trend': -53.12751898883668,\n",
       " 'initial_seasons': array([0.80375224, 0.8683126 , 0.9394797 , 1.00769103, 0.99999068,\n",
       "        0.99175749, 0.98256541, 0.9496362 , 0.91525089, 0.88152408,\n",
       "        0.85476739, 0.82856687]),\n",
       " 'use_boxcox': False,\n",
       " 'lamda': None,\n",
       " 'remove_bias': False}"
      ]
     },
     "execution_count": 72,
     "metadata": {},
     "output_type": "execute_result"
    }
   ],
   "source": [
    "model_fit.params"
   ]
  },
  {
   "cell_type": "code",
   "execution_count": 73,
   "id": "65079783",
   "metadata": {},
   "outputs": [],
   "source": [
    "y_hat_hwm['hwm_forecast'] = model_fit.forecast(24)"
   ]
  },
  {
   "cell_type": "code",
   "execution_count": 74,
   "id": "f55a187f",
   "metadata": {},
   "outputs": [
    {
     "data": {
      "image/png": "[encoded data removed]",
      "text/plain": [
       "<Figure size 864x288 with 1 Axes>"
      ]
     },
     "metadata": {
      "needs_background": "light"
     },
     "output_type": "display_data"
    }
   ],
   "source": [
    "plt.figure(figsize=(12,4))\n",
    "plt.plot(train['Sales'], label='Train')\n",
    "plt.plot(test['Sales'], label='test')\n",
    "plt.plot(y_hat_hwm['hwm_forecast'], label='Holt\\'s Winters multiplicative exponential smoothing forcast')\n",
    "plt.legend(loc='best')\n",
    "plt.show()"
   ]
  },
  {
   "cell_type": "markdown",
   "id": "99c4e183",
   "metadata": {},
   "source": [
    "# RMSE"
   ]
  },
  {
   "cell_type": "code",
   "execution_count": 75,
   "id": "c5360eba",
   "metadata": {},
   "outputs": [
    {
     "data": {
      "text/plain": [
       "86.29"
      ]
     },
     "execution_count": 75,
     "metadata": {},
     "output_type": "execute_result"
    }
   ],
   "source": [
    "rmse = np.sqrt(mean_squared_error(test['Sales'], y_hat_hwm['hwm_forecast'])).round(2)\n",
    "rmse"
   ]
  },
  {
   "cell_type": "markdown",
   "id": "a4cd5d46",
   "metadata": {},
   "source": [
    "# MAPE Score"
   ]
  },
  {
   "cell_type": "code",
   "execution_count": 76,
   "id": "dd90d257",
   "metadata": {},
   "outputs": [
    {
     "data": {
      "text/plain": [
       "1.68"
      ]
     },
     "execution_count": 76,
     "metadata": {},
     "output_type": "execute_result"
    }
   ],
   "source": [
    "mape = round(np.mean(np.abs((test['Sales'] - y_hat_hwm['hwm_forecast'])/test['Sales'])*100),2)\n",
    "mape"
   ]
  },
  {
   "cell_type": "code",
   "execution_count": 77,
   "id": "6a5c864c",
   "metadata": {},
   "outputs": [
    {
     "data": {
      "text/html": [
       "<div>\n",
       "<style scoped>\n",
       "    .dataframe tbody tr th:only-of-type {\n",
       "        vertical-align: middle;\n",
       "    }\n",
       "\n",
       "    .dataframe tbody tr th {\n",
       "        vertical-align: top;\n",
       "    }\n",
       "\n",
       "    .dataframe thead th {\n",
       "        text-align: right;\n",
       "    }\n",
       "</style>\n",
       "<table border=\"1\" class=\"dataframe\">\n",
       "  <thead>\n",
       "    <tr style=\"text-align: right;\">\n",
       "      <th></th>\n",
       "      <th>Method</th>\n",
       "      <th>RMSE</th>\n",
       "      <th>MAPE</th>\n",
       "    </tr>\n",
       "  </thead>\n",
       "  <tbody>\n",
       "    <tr>\n",
       "      <th>0</th>\n",
       "      <td>Simple Average Method</td>\n",
       "      <td>1857.28</td>\n",
       "      <td>40.49</td>\n",
       "    </tr>\n",
       "    <tr>\n",
       "      <th>1</th>\n",
       "      <td>Simple moving average method</td>\n",
       "      <td>895.54</td>\n",
       "      <td>17.82</td>\n",
       "    </tr>\n",
       "    <tr>\n",
       "      <th>2</th>\n",
       "      <td>Simple exponential smoothing method</td>\n",
       "      <td>802.75</td>\n",
       "      <td>15.49</td>\n",
       "    </tr>\n",
       "    <tr>\n",
       "      <th>3</th>\n",
       "      <td>Holt's exponential smoothing method</td>\n",
       "      <td>516.39</td>\n",
       "      <td>8.94</td>\n",
       "    </tr>\n",
       "    <tr>\n",
       "      <th>4</th>\n",
       "      <td>Holt's Winter additive method</td>\n",
       "      <td>1147.28</td>\n",
       "      <td>22.93</td>\n",
       "    </tr>\n",
       "    <tr>\n",
       "      <th>5</th>\n",
       "      <td>Holt's Winter multiplicative method</td>\n",
       "      <td>86.29</td>\n",
       "      <td>1.68</td>\n",
       "    </tr>\n",
       "  </tbody>\n",
       "</table>\n",
       "</div>"
      ],
      "text/plain": [
       "                                Method     RMSE   MAPE\n",
       "0                Simple Average Method  1857.28  40.49\n",
       "1         Simple moving average method   895.54  17.82\n",
       "2  Simple exponential smoothing method   802.75  15.49\n",
       "3  Holt's exponential smoothing method   516.39   8.94\n",
       "4        Holt's Winter additive method  1147.28  22.93\n",
       "5  Holt's Winter multiplicative method    86.29   1.68"
      ]
     },
     "execution_count": 77,
     "metadata": {},
     "output_type": "execute_result"
    }
   ],
   "source": [
    "results = results.append({'Method':'Holt\\'s Winter multiplicative method', 'RMSE':rmse, 'MAPE':mape}, ignore_index=True)\n",
    "results"
   ]
  },
  {
   "cell_type": "markdown",
   "id": "9980851b",
   "metadata": {},
   "source": [
    "# Auto Regressive Model (AR Model)`"
   ]
  },
  {
   "cell_type": "markdown",
   "id": "b39fedd6",
   "metadata": {},
   "source": [
    "## 1. Visually checking the Stationarity"
   ]
  },
  {
   "cell_type": "code",
   "execution_count": 78,
   "id": "535f43ad",
   "metadata": {},
   "outputs": [
    {
     "data": {
      "image/png": "[encoded data removed]",
      "text/plain": [
       "<Figure size 864x288 with 1 Axes>"
      ]
     },
     "metadata": {
      "needs_background": "light"
     },
     "output_type": "display_data"
    }
   ],
   "source": [
    "data['Sales'].plot(figsize=(12,4))\n",
    "plt.show()"
   ]
  },
  {
   "cell_type": "markdown",
   "id": "af06f4b6",
   "metadata": {},
   "source": [
    "## 2. Augmented Dickey-Fuller (ADF) Test"
   ]
  },
  {
   "cell_type": "code",
   "execution_count": 79,
   "id": "8dc74ffc",
   "metadata": {},
   "outputs": [],
   "source": [
    "from statsmodels.tsa.stattools import adfuller"
   ]
  },
  {
   "cell_type": "code",
   "execution_count": 80,
   "id": "6454235d",
   "metadata": {},
   "outputs": [
    {
     "data": {
      "text/plain": [
       "(0.5725994512262321,\n",
       " 0.986920415383204,\n",
       " 10,\n",
       " 113,\n",
       " {'1%': -3.489589552580676,\n",
       "  '5%': -2.887477210140433,\n",
       "  '10%': -2.580604145195395},\n",
       " 1099.5385044002155)"
      ]
     },
     "execution_count": 80,
     "metadata": {},
     "output_type": "execute_result"
    }
   ],
   "source": [
    "adf_test = adfuller(data['Sales'])\n",
    "adf_test"
   ]
  },
  {
   "cell_type": "code",
   "execution_count": 81,
   "id": "290719c7",
   "metadata": {},
   "outputs": [
    {
     "name": "stdout",
     "output_type": "stream",
     "text": [
      "ADF stats: 0.572599\n",
      "p-value: 0.986920\n",
      "Critical value @ 0.05: -2.89\n"
     ]
    }
   ],
   "source": [
    "print('ADF stats: %f' % adf_test[0])\n",
    "print('p-value: %f' %adf_test[1])\n",
    "print('Critical value @ 0.05: %.2f' % adf_test[4]['5%'])"
   ]
  },
  {
   "cell_type": "markdown",
   "id": "8784b022",
   "metadata": {},
   "source": [
    "# Converting Non-Stationary to Stationary Time Series"
   ]
  },
  {
   "cell_type": "markdown",
   "id": "9312aae1",
   "metadata": {},
   "source": [
    "## Box Cox Transformation"
   ]
  },
  {
   "cell_type": "code",
   "execution_count": 82,
   "id": "020a489e",
   "metadata": {},
   "outputs": [],
   "source": [
    "from scipy.stats import boxcox"
   ]
  },
  {
   "cell_type": "code",
   "execution_count": 83,
   "id": "4d55ec4a",
   "metadata": {},
   "outputs": [
    {
     "data": {
      "text/plain": [
       "date\n",
       "1986-01-31    7.458663\n",
       "1986-02-28    7.552170\n",
       "1986-03-31    7.637676\n",
       "1986-04-30    7.716443\n",
       "1986-05-31    7.758437\n",
       "Freq: M, dtype: float64"
      ]
     },
     "execution_count": 83,
     "metadata": {},
     "output_type": "execute_result"
    }
   ],
   "source": [
    "data_boxcox = pd.Series(boxcox(data['Sales'], lmbda=0), data.index)\n",
    "data_boxcox.head()\n"
   ]
  },
  {
   "cell_type": "code",
   "execution_count": 84,
   "id": "48617ecd",
   "metadata": {},
   "outputs": [
    {
     "data": {
      "image/png": "[encoded data removed]",
      "text/plain": [
       "<Figure size 864x288 with 1 Axes>"
      ]
     },
     "metadata": {
      "needs_background": "light"
     },
     "output_type": "display_data"
    }
   ],
   "source": [
    "plt.figure(figsize=(12,4))\n",
    "plt.plot(data_boxcox, label='After Box Cox Transformation')\n",
    "plt.legend(loc='best')\n",
    "plt.show()"
   ]
  },
  {
   "cell_type": "markdown",
   "id": "a302396b",
   "metadata": {},
   "source": [
    "# Differencing"
   ]
  },
  {
   "cell_type": "code",
   "execution_count": 85,
   "id": "1b9e6593",
   "metadata": {},
   "outputs": [],
   "source": [
    "data_boxcox_diff = pd.Series(data_boxcox - data_boxcox.shift(), index=data.index)"
   ]
  },
  {
   "cell_type": "code",
   "execution_count": 86,
   "id": "90b3cbcd",
   "metadata": {},
   "outputs": [],
   "source": [
    "data_boxcox_diff.dropna(inplace=True)"
   ]
  },
  {
   "cell_type": "code",
   "execution_count": 87,
   "id": "dd9ed278",
   "metadata": {},
   "outputs": [
    {
     "data": {
      "image/png": "[encoded data removed]",
      "text/plain": [
       "<Figure size 864x288 with 1 Axes>"
      ]
     },
     "metadata": {
      "needs_background": "light"
     },
     "output_type": "display_data"
    }
   ],
   "source": [
    "plt.figure(figsize=(12,4))\n",
    "plt.plot(data_boxcox_diff, label='After Box Cox Transformation adn Differencing')\n",
    "plt.legend(loc='best')\n",
    "plt.show()"
   ]
  },
  {
   "cell_type": "markdown",
   "id": "917871df",
   "metadata": {},
   "source": [
    "# ADF Test after Transformation"
   ]
  },
  {
   "cell_type": "code",
   "execution_count": 88,
   "id": "313bd377",
   "metadata": {},
   "outputs": [
    {
     "data": {
      "text/plain": [
       "(-3.0300602132534147,\n",
       " 0.03218092739693533,\n",
       " 12,\n",
       " 110,\n",
       " {'1%': -3.4912451337340342,\n",
       "  '5%': -2.8881954545454547,\n",
       "  '10%': -2.5809876033057852},\n",
       " -602.338596474247)"
      ]
     },
     "execution_count": 88,
     "metadata": {},
     "output_type": "execute_result"
    }
   ],
   "source": [
    "adf_test = adfuller(data_boxcox_diff)\n",
    "adf_test"
   ]
  },
  {
   "cell_type": "code",
   "execution_count": 89,
   "id": "99799409",
   "metadata": {},
   "outputs": [
    {
     "name": "stdout",
     "output_type": "stream",
     "text": [
      "ADF stats: -3.030060\n",
      "p-value: 0.032181\n",
      "Critical value @ 0.05: -2.89\n"
     ]
    }
   ],
   "source": [
    "print('ADF stats: %f' % adf_test[0])\n",
    "print('p-value: %f' %adf_test[1])\n",
    "print('Critical value @ 0.05: %.2f' % adf_test[4]['5%'])"
   ]
  },
  {
   "cell_type": "markdown",
   "id": "3daaae13",
   "metadata": {},
   "source": [
    "# Auto-Correaltion Function"
   ]
  },
  {
   "cell_type": "code",
   "execution_count": 90,
   "id": "68be861b",
   "metadata": {},
   "outputs": [],
   "source": [
    "from statsmodels.graphics.tsaplots import plot_acf"
   ]
  },
  {
   "cell_type": "code",
   "execution_count": 91,
   "id": "ae407355",
   "metadata": {},
   "outputs": [
    {
     "data": {
      "image/png": "[encoded data removed]",
      "text/plain": [
       "<Figure size 864x288 with 1 Axes>"
      ]
     },
     "metadata": {
      "needs_background": "light"
     },
     "output_type": "display_data"
    }
   ],
   "source": [
    "plt.figure(figsize=(12,4))\n",
    "plot_acf(data_boxcox_diff, ax=plt.gca(), lags=30)\n",
    "plt.show()"
   ]
  },
  {
   "cell_type": "markdown",
   "id": "bdecf209",
   "metadata": {},
   "source": [
    "# Partial Autocorrelation Function (PACF)"
   ]
  },
  {
   "cell_type": "code",
   "execution_count": 92,
   "id": "f17632c4",
   "metadata": {},
   "outputs": [],
   "source": [
    "from statsmodels.graphics.tsaplots import plot_pacf"
   ]
  },
  {
   "cell_type": "code",
   "execution_count": 93,
   "id": "dc7d72ec",
   "metadata": {},
   "outputs": [
    {
     "data": {
      "image/png": "[encoded data removed]",
      "text/plain": [
       "<Figure size 864x288 with 1 Axes>"
      ]
     },
     "metadata": {
      "needs_background": "light"
     },
     "output_type": "display_data"
    }
   ],
   "source": [
    "plt.figure(figsize=(12,4))\n",
    "plot_pacf(data_boxcox_diff, ax=plt.gca(), lags=30)\n",
    "plt.show()"
   ]
  },
  {
   "cell_type": "markdown",
   "id": "7f801625",
   "metadata": {},
   "source": [
    "# Building Regression Model"
   ]
  },
  {
   "cell_type": "markdown",
   "id": "109e7044",
   "metadata": {},
   "source": [
    "## Splitting Stationary dataset into train and test set"
   ]
  },
  {
   "cell_type": "code",
   "execution_count": 94,
   "id": "6ac58e9f",
   "metadata": {},
   "outputs": [],
   "source": [
    "train_data_boxcox = data_boxcox[:train_len]\n",
    "test_data_boxcox = data_boxcox[train_len:]"
   ]
  },
  {
   "cell_type": "code",
   "execution_count": 95,
   "id": "88384732",
   "metadata": {},
   "outputs": [],
   "source": [
    "train_data_boxcox_diff = data_boxcox_diff[:train_len-1]\n",
    "test_data_boxcox_diff = data_boxcox_diff[train_len-1:]"
   ]
  },
  {
   "cell_type": "markdown",
   "id": "26b0e18e",
   "metadata": {},
   "source": [
    "# Simple Auto Regressive Model (AR)"
   ]
  },
  {
   "cell_type": "code",
   "execution_count": 96,
   "id": "7f5ee0e1",
   "metadata": {},
   "outputs": [],
   "source": [
    "from statsmodels.tsa.arima_model import ARIMA"
   ]
  },
  {
   "cell_type": "code",
   "execution_count": 97,
   "id": "44daefbd",
   "metadata": {},
   "outputs": [],
   "source": [
    "model = ARIMA(train_data_boxcox_diff, order=(1,0,0))"
   ]
  },
  {
   "cell_type": "code",
   "execution_count": 98,
   "id": "22c7efb5",
   "metadata": {},
   "outputs": [
    {
     "data": {
      "text/plain": [
       "const      0.011643\n",
       "ar.L1.y    0.611756\n",
       "dtype: float64"
      ]
     },
     "execution_count": 98,
     "metadata": {},
     "output_type": "execute_result"
    }
   ],
   "source": [
    "model_fit = model.fit()\n",
    "model_fit.params"
   ]
  },
  {
   "cell_type": "markdown",
   "id": "0ffd6d62",
   "metadata": {},
   "source": [
    "# Forecast"
   ]
  },
  {
   "cell_type": "code",
   "execution_count": 99,
   "id": "10248346",
   "metadata": {},
   "outputs": [],
   "source": [
    "y_hat_ar = data_boxcox_diff.copy()"
   ]
  },
  {
   "cell_type": "code",
   "execution_count": 100,
   "id": "6887fc8f",
   "metadata": {},
   "outputs": [],
   "source": [
    "y_hat_ar['ar_forecast_boxcox_diff'] = model_fit.predict(data_boxcox_diff.index.min(), data_boxcox_diff.index.max())"
   ]
  },
  {
   "cell_type": "markdown",
   "id": "225a2f13",
   "metadata": {},
   "source": [
    "# Recover original time series forecast"
   ]
  },
  {
   "cell_type": "code",
   "execution_count": 101,
   "id": "f9ce940d",
   "metadata": {},
   "outputs": [],
   "source": [
    "y_hat_ar['ar_forecast_boxcox'] = y_hat_ar['ar_forecast_boxcox_diff'].cumsum()"
   ]
  },
  {
   "cell_type": "code",
   "execution_count": 102,
   "id": "ce94beb6",
   "metadata": {},
   "outputs": [],
   "source": [
    "y_hat_ar['ar_forecast_boxcox'] = y_hat_ar['ar_forecast_boxcox'].add(data_boxcox[0])"
   ]
  },
  {
   "cell_type": "code",
   "execution_count": 103,
   "id": "c62676c4",
   "metadata": {},
   "outputs": [],
   "source": [
    "y_hat_ar['ar_forecast'] = np.exp(y_hat_ar['ar_forecast_boxcox'])"
   ]
  },
  {
   "cell_type": "code",
   "execution_count": 104,
   "id": "7d9bd41e",
   "metadata": {},
   "outputs": [
    {
     "data": {
      "image/png": "[encoded data removed]",
      "text/plain": [
       "<Figure size 864x288 with 1 Axes>"
      ]
     },
     "metadata": {
      "needs_background": "light"
     },
     "output_type": "display_data"
    }
   ],
   "source": [
    "plt.figure(figsize=(12,4))\n",
    "plt.plot(train['Sales'], label='Train')\n",
    "plt.plot(test['Sales'], label='Test')\n",
    "plt.plot(y_hat_ar['ar_forecast'][test.index.min():], label='Auto regression forecast (AR)')\n",
    "plt.legend(loc='best')\n",
    "plt.show()"
   ]
  },
  {
   "cell_type": "markdown",
   "id": "c50dc358",
   "metadata": {},
   "source": [
    "# RMSE"
   ]
  },
  {
   "cell_type": "code",
   "execution_count": 105,
   "id": "a4e4991f",
   "metadata": {},
   "outputs": [
    {
     "data": {
      "text/plain": [
       "1485.93"
      ]
     },
     "execution_count": 105,
     "metadata": {},
     "output_type": "execute_result"
    }
   ],
   "source": [
    "rmse = np.sqrt(mean_squared_error(test['Sales'], y_hat_ar['ar_forecast'][test.index.min():])).round(2)\n",
    "rmse"
   ]
  },
  {
   "cell_type": "markdown",
   "id": "92431eab",
   "metadata": {},
   "source": [
    "# MAPE Score"
   ]
  },
  {
   "cell_type": "code",
   "execution_count": 106,
   "id": "ca0dc558",
   "metadata": {},
   "outputs": [
    {
     "data": {
      "text/plain": [
       "31.91"
      ]
     },
     "execution_count": 106,
     "metadata": {},
     "output_type": "execute_result"
    }
   ],
   "source": [
    "mape = round(np.mean(np.abs((test['Sales'] - y_hat_ar['ar_forecast'][test.index.min():])/test['Sales'])*100),2)\n",
    "mape"
   ]
  },
  {
   "cell_type": "code",
   "execution_count": 107,
   "id": "544a74b7",
   "metadata": {},
   "outputs": [
    {
     "data": {
      "text/html": [
       "<div>\n",
       "<style scoped>\n",
       "    .dataframe tbody tr th:only-of-type {\n",
       "        vertical-align: middle;\n",
       "    }\n",
       "\n",
       "    .dataframe tbody tr th {\n",
       "        vertical-align: top;\n",
       "    }\n",
       "\n",
       "    .dataframe thead th {\n",
       "        text-align: right;\n",
       "    }\n",
       "</style>\n",
       "<table border=\"1\" class=\"dataframe\">\n",
       "  <thead>\n",
       "    <tr style=\"text-align: right;\">\n",
       "      <th></th>\n",
       "      <th>Method</th>\n",
       "      <th>RMSE</th>\n",
       "      <th>MAPE</th>\n",
       "    </tr>\n",
       "  </thead>\n",
       "  <tbody>\n",
       "    <tr>\n",
       "      <th>0</th>\n",
       "      <td>Simple Average Method</td>\n",
       "      <td>1857.28</td>\n",
       "      <td>40.49</td>\n",
       "    </tr>\n",
       "    <tr>\n",
       "      <th>1</th>\n",
       "      <td>Simple moving average method</td>\n",
       "      <td>895.54</td>\n",
       "      <td>17.82</td>\n",
       "    </tr>\n",
       "    <tr>\n",
       "      <th>2</th>\n",
       "      <td>Simple exponential smoothing method</td>\n",
       "      <td>802.75</td>\n",
       "      <td>15.49</td>\n",
       "    </tr>\n",
       "    <tr>\n",
       "      <th>3</th>\n",
       "      <td>Holt's exponential smoothing method</td>\n",
       "      <td>516.39</td>\n",
       "      <td>8.94</td>\n",
       "    </tr>\n",
       "    <tr>\n",
       "      <th>4</th>\n",
       "      <td>Holt's Winter additive method</td>\n",
       "      <td>1147.28</td>\n",
       "      <td>22.93</td>\n",
       "    </tr>\n",
       "    <tr>\n",
       "      <th>5</th>\n",
       "      <td>Holt's Winter multiplicative method</td>\n",
       "      <td>86.29</td>\n",
       "      <td>1.68</td>\n",
       "    </tr>\n",
       "    <tr>\n",
       "      <th>6</th>\n",
       "      <td>Auto regressive (AR) method</td>\n",
       "      <td>1485.93</td>\n",
       "      <td>31.91</td>\n",
       "    </tr>\n",
       "  </tbody>\n",
       "</table>\n",
       "</div>"
      ],
      "text/plain": [
       "                                Method     RMSE   MAPE\n",
       "0                Simple Average Method  1857.28  40.49\n",
       "1         Simple moving average method   895.54  17.82\n",
       "2  Simple exponential smoothing method   802.75  15.49\n",
       "3  Holt's exponential smoothing method   516.39   8.94\n",
       "4        Holt's Winter additive method  1147.28  22.93\n",
       "5  Holt's Winter multiplicative method    86.29   1.68\n",
       "6          Auto regressive (AR) method  1485.93  31.91"
      ]
     },
     "execution_count": 107,
     "metadata": {},
     "output_type": "execute_result"
    }
   ],
   "source": [
    "results = results.append({'Method':'Auto regressive (AR) method', 'RMSE':rmse, 'MAPE':mape}, ignore_index=True)\n",
    "results"
   ]
  },
  {
   "cell_type": "markdown",
   "id": "4e62b02c",
   "metadata": {},
   "source": [
    "# Moving Average method (MA)"
   ]
  },
  {
   "cell_type": "code",
   "execution_count": 108,
   "id": "4d7b073f",
   "metadata": {},
   "outputs": [],
   "source": [
    "model = ARIMA(train_data_boxcox_diff, order=(0,0,1))"
   ]
  },
  {
   "cell_type": "code",
   "execution_count": 109,
   "id": "76cbdde1",
   "metadata": {},
   "outputs": [
    {
     "data": {
      "text/plain": [
       "const      0.009819\n",
       "ma.L1.y    0.484205\n",
       "dtype: float64"
      ]
     },
     "execution_count": 109,
     "metadata": {},
     "output_type": "execute_result"
    }
   ],
   "source": [
    "model_fit = model.fit()\n",
    "model_fit.params"
   ]
  },
  {
   "cell_type": "code",
   "execution_count": 110,
   "id": "f521d081",
   "metadata": {},
   "outputs": [],
   "source": [
    "y_hat_ma = data_boxcox_diff.copy()"
   ]
  },
  {
   "cell_type": "code",
   "execution_count": 111,
   "id": "148c3c43",
   "metadata": {},
   "outputs": [],
   "source": [
    "y_hat_ma['ma_forecast_boxcox_diff'] = model_fit.predict(data_boxcox_diff.index.min(), data_boxcox_diff.index.max())"
   ]
  },
  {
   "cell_type": "markdown",
   "id": "094c4c52",
   "metadata": {},
   "source": [
    "# Recover original time series forecast"
   ]
  },
  {
   "cell_type": "code",
   "execution_count": 112,
   "id": "ad9c00cb",
   "metadata": {},
   "outputs": [],
   "source": [
    "y_hat_ma['ma_forecast_boxcox'] = y_hat_ma['ma_forecast_boxcox_diff'].cumsum()"
   ]
  },
  {
   "cell_type": "code",
   "execution_count": 113,
   "id": "afd21d48",
   "metadata": {},
   "outputs": [],
   "source": [
    "y_hat_ma['ma_forecast_boxcox'] = y_hat_ma['ma_forecast_boxcox'].add(data_boxcox[0])"
   ]
  },
  {
   "cell_type": "code",
   "execution_count": 114,
   "id": "192474d5",
   "metadata": {},
   "outputs": [],
   "source": [
    "y_hat_ma['ma_forecast'] = np.exp(y_hat_ma['ma_forecast_boxcox'])"
   ]
  },
  {
   "cell_type": "code",
   "execution_count": 115,
   "id": "51701e01",
   "metadata": {},
   "outputs": [
    {
     "data": {
      "image/png": "[encoded data removed]",
      "text/plain": [
       "<Figure size 864x288 with 1 Axes>"
      ]
     },
     "metadata": {
      "needs_background": "light"
     },
     "output_type": "display_data"
    }
   ],
   "source": [
    "plt.figure(figsize=(12,4))\n",
    "plt.plot(train['Sales'], label='Train')\n",
    "plt.plot(test['Sales'], label='Test')\n",
    "plt.plot(y_hat_ma['ma_forecast'][test.index.min():], label='Moving averageforecast (MA)')\n",
    "plt.legend(loc='best')\n",
    "plt.show()"
   ]
  },
  {
   "cell_type": "markdown",
   "id": "0dbdcd84",
   "metadata": {},
   "source": [
    "# RMSE"
   ]
  },
  {
   "cell_type": "code",
   "execution_count": 116,
   "id": "da2a3567",
   "metadata": {},
   "outputs": [
    {
     "data": {
      "text/plain": [
       "760.43"
      ]
     },
     "execution_count": 116,
     "metadata": {},
     "output_type": "execute_result"
    }
   ],
   "source": [
    "rmse = np.sqrt(mean_squared_error(test['Sales'], y_hat_ma['ma_forecast'][test.index.min():])).round(2)\n",
    "rmse"
   ]
  },
  {
   "cell_type": "markdown",
   "id": "d5fd7ea4",
   "metadata": {},
   "source": [
    "# MAPE Score"
   ]
  },
  {
   "cell_type": "code",
   "execution_count": 117,
   "id": "1ce4f428",
   "metadata": {},
   "outputs": [
    {
     "data": {
      "text/plain": [
       "15.35"
      ]
     },
     "execution_count": 117,
     "metadata": {},
     "output_type": "execute_result"
    }
   ],
   "source": [
    "mape = round(np.mean(np.abs((test['Sales'] - y_hat_ma['ma_forecast'][test.index.min():])/test['Sales'])*100),2)\n",
    "mape"
   ]
  },
  {
   "cell_type": "code",
   "execution_count": 118,
   "id": "f14b15a3",
   "metadata": {},
   "outputs": [
    {
     "data": {
      "text/html": [
       "<div>\n",
       "<style scoped>\n",
       "    .dataframe tbody tr th:only-of-type {\n",
       "        vertical-align: middle;\n",
       "    }\n",
       "\n",
       "    .dataframe tbody tr th {\n",
       "        vertical-align: top;\n",
       "    }\n",
       "\n",
       "    .dataframe thead th {\n",
       "        text-align: right;\n",
       "    }\n",
       "</style>\n",
       "<table border=\"1\" class=\"dataframe\">\n",
       "  <thead>\n",
       "    <tr style=\"text-align: right;\">\n",
       "      <th></th>\n",
       "      <th>Method</th>\n",
       "      <th>RMSE</th>\n",
       "      <th>MAPE</th>\n",
       "    </tr>\n",
       "  </thead>\n",
       "  <tbody>\n",
       "    <tr>\n",
       "      <th>0</th>\n",
       "      <td>Simple Average Method</td>\n",
       "      <td>1857.28</td>\n",
       "      <td>40.49</td>\n",
       "    </tr>\n",
       "    <tr>\n",
       "      <th>1</th>\n",
       "      <td>Simple moving average method</td>\n",
       "      <td>895.54</td>\n",
       "      <td>17.82</td>\n",
       "    </tr>\n",
       "    <tr>\n",
       "      <th>2</th>\n",
       "      <td>Simple exponential smoothing method</td>\n",
       "      <td>802.75</td>\n",
       "      <td>15.49</td>\n",
       "    </tr>\n",
       "    <tr>\n",
       "      <th>3</th>\n",
       "      <td>Holt's exponential smoothing method</td>\n",
       "      <td>516.39</td>\n",
       "      <td>8.94</td>\n",
       "    </tr>\n",
       "    <tr>\n",
       "      <th>4</th>\n",
       "      <td>Holt's Winter additive method</td>\n",
       "      <td>1147.28</td>\n",
       "      <td>22.93</td>\n",
       "    </tr>\n",
       "    <tr>\n",
       "      <th>5</th>\n",
       "      <td>Holt's Winter multiplicative method</td>\n",
       "      <td>86.29</td>\n",
       "      <td>1.68</td>\n",
       "    </tr>\n",
       "    <tr>\n",
       "      <th>6</th>\n",
       "      <td>Auto regressive (AR) method</td>\n",
       "      <td>1485.93</td>\n",
       "      <td>31.91</td>\n",
       "    </tr>\n",
       "    <tr>\n",
       "      <th>7</th>\n",
       "      <td>Moving average (MA) method</td>\n",
       "      <td>760.43</td>\n",
       "      <td>15.35</td>\n",
       "    </tr>\n",
       "  </tbody>\n",
       "</table>\n",
       "</div>"
      ],
      "text/plain": [
       "                                Method     RMSE   MAPE\n",
       "0                Simple Average Method  1857.28  40.49\n",
       "1         Simple moving average method   895.54  17.82\n",
       "2  Simple exponential smoothing method   802.75  15.49\n",
       "3  Holt's exponential smoothing method   516.39   8.94\n",
       "4        Holt's Winter additive method  1147.28  22.93\n",
       "5  Holt's Winter multiplicative method    86.29   1.68\n",
       "6          Auto regressive (AR) method  1485.93  31.91\n",
       "7           Moving average (MA) method   760.43  15.35"
      ]
     },
     "execution_count": 118,
     "metadata": {},
     "output_type": "execute_result"
    }
   ],
   "source": [
    "results = results.append({'Method':'Moving average (MA) method', 'RMSE':rmse, 'MAPE':mape}, ignore_index=True)\n",
    "results"
   ]
  },
  {
   "cell_type": "markdown",
   "id": "5292d2a0",
   "metadata": {},
   "source": [
    "# Auto Regressive Moving Average (ARMA)"
   ]
  },
  {
   "cell_type": "code",
   "execution_count": 119,
   "id": "0183abd4",
   "metadata": {},
   "outputs": [],
   "source": [
    "model = ARIMA(train_data_boxcox_diff, order=(1,0,1))"
   ]
  },
  {
   "cell_type": "code",
   "execution_count": 120,
   "id": "5fe8eac2",
   "metadata": {},
   "outputs": [
    {
     "data": {
      "text/plain": [
       "const      0.011082\n",
       "ar.L1.y    0.510143\n",
       "ma.L1.y    0.171535\n",
       "dtype: float64"
      ]
     },
     "execution_count": 120,
     "metadata": {},
     "output_type": "execute_result"
    }
   ],
   "source": [
    "model_fit = model.fit()\n",
    "model_fit.params"
   ]
  },
  {
   "cell_type": "code",
   "execution_count": 121,
   "id": "5d6aaa89",
   "metadata": {},
   "outputs": [],
   "source": [
    "y_hat_arma = data_boxcox_diff.copy()"
   ]
  },
  {
   "cell_type": "code",
   "execution_count": 122,
   "id": "925b971c",
   "metadata": {},
   "outputs": [],
   "source": [
    "y_hat_arma['arma_forecast_boxcox_diff'] = model_fit.predict(data_boxcox_diff.index.min(), data_boxcox_diff.index.max())"
   ]
  },
  {
   "cell_type": "code",
   "execution_count": 123,
   "id": "c982e3cd",
   "metadata": {},
   "outputs": [],
   "source": [
    "y_hat_arma['arma_forecast_boxcox'] = y_hat_arma['arma_forecast_boxcox_diff'].cumsum()"
   ]
  },
  {
   "cell_type": "code",
   "execution_count": 124,
   "id": "dd8d4ddd",
   "metadata": {},
   "outputs": [],
   "source": [
    "y_hat_arma['arma_forecast_boxcox'] = y_hat_arma['arma_forecast_boxcox'].add(data_boxcox[0])"
   ]
  },
  {
   "cell_type": "code",
   "execution_count": 125,
   "id": "9dce7034",
   "metadata": {},
   "outputs": [],
   "source": [
    "y_hat_arma['arma_forecast'] = np.exp(y_hat_arma['arma_forecast_boxcox'])"
   ]
  },
  {
   "cell_type": "code",
   "execution_count": 126,
   "id": "438cdbda",
   "metadata": {},
   "outputs": [
    {
     "data": {
      "image/png": "[encoded data removed]",
      "text/plain": [
       "<Figure size 864x288 with 1 Axes>"
      ]
     },
     "metadata": {
      "needs_background": "light"
     },
     "output_type": "display_data"
    }
   ],
   "source": [
    "plt.figure(figsize=(12,4))\n",
    "plt.plot(train['Sales'], label='Train')\n",
    "plt.plot(test['Sales'], label='Test')\n",
    "plt.plot(y_hat_arma['arma_forecast'][test.index.min():], label='Auto regressive oving average forecast (ARMA)')\n",
    "plt.legend(loc='best')\n",
    "plt.show()"
   ]
  },
  {
   "cell_type": "markdown",
   "id": "fe60a144",
   "metadata": {},
   "source": [
    "# RMSE"
   ]
  },
  {
   "cell_type": "code",
   "execution_count": 127,
   "id": "965e17d7",
   "metadata": {},
   "outputs": [
    {
     "data": {
      "text/plain": [
       "1234.22"
      ]
     },
     "execution_count": 127,
     "metadata": {},
     "output_type": "execute_result"
    }
   ],
   "source": [
    "rmse = np.sqrt(mean_squared_error(test['Sales'], y_hat_arma['arma_forecast'][test.index.min():])).round(2)\n",
    "rmse"
   ]
  },
  {
   "cell_type": "markdown",
   "id": "8a55e143",
   "metadata": {},
   "source": [
    "# MAPE Score"
   ]
  },
  {
   "cell_type": "code",
   "execution_count": 128,
   "id": "5286f29d",
   "metadata": {},
   "outputs": [
    {
     "data": {
      "text/plain": [
       "26.33"
      ]
     },
     "execution_count": 128,
     "metadata": {},
     "output_type": "execute_result"
    }
   ],
   "source": [
    "mape = round(np.mean(np.abs((test['Sales'] - y_hat_arma['arma_forecast'][test.index.min():])/test['Sales'])*100),2)\n",
    "mape"
   ]
  },
  {
   "cell_type": "code",
   "execution_count": 129,
   "id": "f0e6a6a0",
   "metadata": {},
   "outputs": [
    {
     "data": {
      "text/html": [
       "<div>\n",
       "<style scoped>\n",
       "    .dataframe tbody tr th:only-of-type {\n",
       "        vertical-align: middle;\n",
       "    }\n",
       "\n",
       "    .dataframe tbody tr th {\n",
       "        vertical-align: top;\n",
       "    }\n",
       "\n",
       "    .dataframe thead th {\n",
       "        text-align: right;\n",
       "    }\n",
       "</style>\n",
       "<table border=\"1\" class=\"dataframe\">\n",
       "  <thead>\n",
       "    <tr style=\"text-align: right;\">\n",
       "      <th></th>\n",
       "      <th>Method</th>\n",
       "      <th>RMSE</th>\n",
       "      <th>MAPE</th>\n",
       "    </tr>\n",
       "  </thead>\n",
       "  <tbody>\n",
       "    <tr>\n",
       "      <th>0</th>\n",
       "      <td>Simple Average Method</td>\n",
       "      <td>1857.28</td>\n",
       "      <td>40.49</td>\n",
       "    </tr>\n",
       "    <tr>\n",
       "      <th>1</th>\n",
       "      <td>Simple moving average method</td>\n",
       "      <td>895.54</td>\n",
       "      <td>17.82</td>\n",
       "    </tr>\n",
       "    <tr>\n",
       "      <th>2</th>\n",
       "      <td>Simple exponential smoothing method</td>\n",
       "      <td>802.75</td>\n",
       "      <td>15.49</td>\n",
       "    </tr>\n",
       "    <tr>\n",
       "      <th>3</th>\n",
       "      <td>Holt's exponential smoothing method</td>\n",
       "      <td>516.39</td>\n",
       "      <td>8.94</td>\n",
       "    </tr>\n",
       "    <tr>\n",
       "      <th>4</th>\n",
       "      <td>Holt's Winter additive method</td>\n",
       "      <td>1147.28</td>\n",
       "      <td>22.93</td>\n",
       "    </tr>\n",
       "    <tr>\n",
       "      <th>5</th>\n",
       "      <td>Holt's Winter multiplicative method</td>\n",
       "      <td>86.29</td>\n",
       "      <td>1.68</td>\n",
       "    </tr>\n",
       "    <tr>\n",
       "      <th>6</th>\n",
       "      <td>Auto regressive (AR) method</td>\n",
       "      <td>1485.93</td>\n",
       "      <td>31.91</td>\n",
       "    </tr>\n",
       "    <tr>\n",
       "      <th>7</th>\n",
       "      <td>Moving average (MA) method</td>\n",
       "      <td>760.43</td>\n",
       "      <td>15.35</td>\n",
       "    </tr>\n",
       "    <tr>\n",
       "      <th>8</th>\n",
       "      <td>Auto regressive moving average (ARMA) method</td>\n",
       "      <td>1234.22</td>\n",
       "      <td>26.33</td>\n",
       "    </tr>\n",
       "  </tbody>\n",
       "</table>\n",
       "</div>"
      ],
      "text/plain": [
       "                                         Method     RMSE   MAPE\n",
       "0                         Simple Average Method  1857.28  40.49\n",
       "1                  Simple moving average method   895.54  17.82\n",
       "2           Simple exponential smoothing method   802.75  15.49\n",
       "3           Holt's exponential smoothing method   516.39   8.94\n",
       "4                 Holt's Winter additive method  1147.28  22.93\n",
       "5           Holt's Winter multiplicative method    86.29   1.68\n",
       "6                   Auto regressive (AR) method  1485.93  31.91\n",
       "7                    Moving average (MA) method   760.43  15.35\n",
       "8  Auto regressive moving average (ARMA) method  1234.22  26.33"
      ]
     },
     "execution_count": 129,
     "metadata": {},
     "output_type": "execute_result"
    }
   ],
   "source": [
    "results = results.append({'Method':'Auto regressive moving average (ARMA) method', 'RMSE':rmse, 'MAPE':mape}, ignore_index=True)\n",
    "results"
   ]
  },
  {
   "cell_type": "markdown",
   "id": "07e5eb6d",
   "metadata": {},
   "source": [
    "# Auto Regressive Integrated Moving Average (ARIMA)"
   ]
  },
  {
   "cell_type": "code",
   "execution_count": 130,
   "id": "f6d1056d",
   "metadata": {},
   "outputs": [],
   "source": [
    "model = ARIMA(train_data_boxcox, order=(1,1,1))"
   ]
  },
  {
   "cell_type": "code",
   "execution_count": 131,
   "id": "0a5831c2",
   "metadata": {},
   "outputs": [
    {
     "data": {
      "text/plain": [
       "const        0.011082\n",
       "ar.L1.D.y    0.510143\n",
       "ma.L1.D.y    0.171535\n",
       "dtype: float64"
      ]
     },
     "execution_count": 131,
     "metadata": {},
     "output_type": "execute_result"
    }
   ],
   "source": [
    "model_fit = model.fit()\n",
    "model_fit.params"
   ]
  },
  {
   "cell_type": "code",
   "execution_count": 132,
   "id": "88e230f7",
   "metadata": {},
   "outputs": [],
   "source": [
    "y_hat_arima = data_boxcox_diff.copy()"
   ]
  },
  {
   "cell_type": "code",
   "execution_count": 133,
   "id": "ace76be1",
   "metadata": {},
   "outputs": [],
   "source": [
    "y_hat_arima['arima_forecast_boxcox_diff'] = model_fit.predict(data_boxcox_diff.index.min(), data_boxcox_diff.index.max())"
   ]
  },
  {
   "cell_type": "code",
   "execution_count": 134,
   "id": "4ef3f34b",
   "metadata": {},
   "outputs": [],
   "source": [
    "y_hat_arima['arima_forecast_boxcox'] = y_hat_arima['arima_forecast_boxcox_diff'].cumsum()"
   ]
  },
  {
   "cell_type": "code",
   "execution_count": 135,
   "id": "cd0e6986",
   "metadata": {},
   "outputs": [],
   "source": [
    "y_hat_arima['arima_forecast_boxcox'] = y_hat_arima['arima_forecast_boxcox'].add(data_boxcox[0])"
   ]
  },
  {
   "cell_type": "code",
   "execution_count": 136,
   "id": "b19ae0a9",
   "metadata": {},
   "outputs": [],
   "source": [
    "y_hat_arima['arima_forecast'] = np.exp(y_hat_arima['arima_forecast_boxcox'])"
   ]
  },
  {
   "cell_type": "code",
   "execution_count": 137,
   "id": "1c548d7d",
   "metadata": {},
   "outputs": [
    {
     "data": {
      "image/png": "[encoded data removed]",
      "text/plain": [
       "<Figure size 864x288 with 1 Axes>"
      ]
     },
     "metadata": {
      "needs_background": "light"
     },
     "output_type": "display_data"
    }
   ],
   "source": [
    "plt.figure(figsize=(12,4))\n",
    "plt.plot(train['Sales'], label='Train')\n",
    "plt.plot(test['Sales'], label='Test')\n",
    "plt.plot(y_hat_arima['arima_forecast'][test.index.min():], label='ARIMA Forecast')\n",
    "plt.legend(loc='best')\n",
    "plt.show()"
   ]
  },
  {
   "cell_type": "markdown",
   "id": "493b1972",
   "metadata": {},
   "source": [
    "# RMSE"
   ]
  },
  {
   "cell_type": "code",
   "execution_count": 138,
   "id": "4406145a",
   "metadata": {},
   "outputs": [
    {
     "data": {
      "text/plain": [
       "1234.22"
      ]
     },
     "execution_count": 138,
     "metadata": {},
     "output_type": "execute_result"
    }
   ],
   "source": [
    "rmse = np.sqrt(mean_squared_error(test['Sales'], y_hat_arima['arima_forecast'][test.index.min():])).round(2)\n",
    "rmse"
   ]
  },
  {
   "cell_type": "markdown",
   "id": "fb88ec31",
   "metadata": {},
   "source": [
    "# MAPE Score"
   ]
  },
  {
   "cell_type": "code",
   "execution_count": 139,
   "id": "11ef8fd1",
   "metadata": {},
   "outputs": [
    {
     "data": {
      "text/plain": [
       "26.33"
      ]
     },
     "execution_count": 139,
     "metadata": {},
     "output_type": "execute_result"
    }
   ],
   "source": [
    "mape = round(np.mean(np.abs((test['Sales'] - y_hat_arima['arima_forecast'][test.index.min():])/test['Sales'])*100),2)\n",
    "mape"
   ]
  },
  {
   "cell_type": "code",
   "execution_count": 140,
   "id": "d17cf240",
   "metadata": {},
   "outputs": [
    {
     "data": {
      "text/html": [
       "<div>\n",
       "<style scoped>\n",
       "    .dataframe tbody tr th:only-of-type {\n",
       "        vertical-align: middle;\n",
       "    }\n",
       "\n",
       "    .dataframe tbody tr th {\n",
       "        vertical-align: top;\n",
       "    }\n",
       "\n",
       "    .dataframe thead th {\n",
       "        text-align: right;\n",
       "    }\n",
       "</style>\n",
       "<table border=\"1\" class=\"dataframe\">\n",
       "  <thead>\n",
       "    <tr style=\"text-align: right;\">\n",
       "      <th></th>\n",
       "      <th>Method</th>\n",
       "      <th>RMSE</th>\n",
       "      <th>MAPE</th>\n",
       "    </tr>\n",
       "  </thead>\n",
       "  <tbody>\n",
       "    <tr>\n",
       "      <th>0</th>\n",
       "      <td>Simple Average Method</td>\n",
       "      <td>1857.28</td>\n",
       "      <td>40.49</td>\n",
       "    </tr>\n",
       "    <tr>\n",
       "      <th>1</th>\n",
       "      <td>Simple moving average method</td>\n",
       "      <td>895.54</td>\n",
       "      <td>17.82</td>\n",
       "    </tr>\n",
       "    <tr>\n",
       "      <th>2</th>\n",
       "      <td>Simple exponential smoothing method</td>\n",
       "      <td>802.75</td>\n",
       "      <td>15.49</td>\n",
       "    </tr>\n",
       "    <tr>\n",
       "      <th>3</th>\n",
       "      <td>Holt's exponential smoothing method</td>\n",
       "      <td>516.39</td>\n",
       "      <td>8.94</td>\n",
       "    </tr>\n",
       "    <tr>\n",
       "      <th>4</th>\n",
       "      <td>Holt's Winter additive method</td>\n",
       "      <td>1147.28</td>\n",
       "      <td>22.93</td>\n",
       "    </tr>\n",
       "    <tr>\n",
       "      <th>5</th>\n",
       "      <td>Holt's Winter multiplicative method</td>\n",
       "      <td>86.29</td>\n",
       "      <td>1.68</td>\n",
       "    </tr>\n",
       "    <tr>\n",
       "      <th>6</th>\n",
       "      <td>Auto regressive (AR) method</td>\n",
       "      <td>1485.93</td>\n",
       "      <td>31.91</td>\n",
       "    </tr>\n",
       "    <tr>\n",
       "      <th>7</th>\n",
       "      <td>Moving average (MA) method</td>\n",
       "      <td>760.43</td>\n",
       "      <td>15.35</td>\n",
       "    </tr>\n",
       "    <tr>\n",
       "      <th>8</th>\n",
       "      <td>Auto regressive moving average (ARMA) method</td>\n",
       "      <td>1234.22</td>\n",
       "      <td>26.33</td>\n",
       "    </tr>\n",
       "    <tr>\n",
       "      <th>9</th>\n",
       "      <td>ARIMA method</td>\n",
       "      <td>1234.22</td>\n",
       "      <td>26.33</td>\n",
       "    </tr>\n",
       "  </tbody>\n",
       "</table>\n",
       "</div>"
      ],
      "text/plain": [
       "                                         Method     RMSE   MAPE\n",
       "0                         Simple Average Method  1857.28  40.49\n",
       "1                  Simple moving average method   895.54  17.82\n",
       "2           Simple exponential smoothing method   802.75  15.49\n",
       "3           Holt's exponential smoothing method   516.39   8.94\n",
       "4                 Holt's Winter additive method  1147.28  22.93\n",
       "5           Holt's Winter multiplicative method    86.29   1.68\n",
       "6                   Auto regressive (AR) method  1485.93  31.91\n",
       "7                    Moving average (MA) method   760.43  15.35\n",
       "8  Auto regressive moving average (ARMA) method  1234.22  26.33\n",
       "9                                  ARIMA method  1234.22  26.33"
      ]
     },
     "execution_count": 140,
     "metadata": {},
     "output_type": "execute_result"
    }
   ],
   "source": [
    "results = results.append({'Method':'ARIMA method', 'RMSE':rmse, 'MAPE':mape}, ignore_index=True)\n",
    "results"
   ]
  },
  {
   "cell_type": "markdown",
   "id": "f0740c31",
   "metadata": {},
   "source": [
    "# Seasonal Auto Regressive Integrated Moving Average (SARIMA)"
   ]
  },
  {
   "cell_type": "code",
   "execution_count": 141,
   "id": "0b416be2",
   "metadata": {},
   "outputs": [],
   "source": [
    "from statsmodels.tsa.statespace.sarimax import SARIMAX"
   ]
  },
  {
   "cell_type": "code",
   "execution_count": 142,
   "id": "9f17d741",
   "metadata": {},
   "outputs": [],
   "source": [
    "model = SARIMAX(train_data_boxcox, order=(1,1,1), seasonal_order=(1,1,1,12))"
   ]
  },
  {
   "cell_type": "code",
   "execution_count": 143,
   "id": "15b7c154",
   "metadata": {},
   "outputs": [
    {
     "data": {
      "text/plain": [
       "ar.L1       0.530333\n",
       "ma.L1       0.173083\n",
       "ar.S.L12   -0.215640\n",
       "ma.S.L12    0.253692\n",
       "sigma2      0.000390\n",
       "dtype: float64"
      ]
     },
     "execution_count": 143,
     "metadata": {},
     "output_type": "execute_result"
    }
   ],
   "source": [
    "model_fit = model.fit()\n",
    "model_fit.params"
   ]
  },
  {
   "cell_type": "code",
   "execution_count": 144,
   "id": "bcef0853",
   "metadata": {},
   "outputs": [],
   "source": [
    "y_hat_sarima = data_boxcox_diff.copy()"
   ]
  },
  {
   "cell_type": "markdown",
   "id": "3d1c583e",
   "metadata": {},
   "source": [
    "# Reverse original time series forecast"
   ]
  },
  {
   "cell_type": "code",
   "execution_count": 145,
   "id": "f40adb03",
   "metadata": {},
   "outputs": [],
   "source": [
    "y_hat_sarima['sarima_forecast_boxcox'] = model_fit.predict(data_boxcox_diff.index.min(), data_boxcox_diff.index.max())"
   ]
  },
  {
   "cell_type": "code",
   "execution_count": 146,
   "id": "8f80105c",
   "metadata": {},
   "outputs": [],
   "source": [
    "y_hat_sarima['sarima_forecast'] = np.exp(y_hat_sarima['sarima_forecast_boxcox'])"
   ]
  },
  {
   "cell_type": "code",
   "execution_count": 147,
   "id": "b6f4b969",
   "metadata": {},
   "outputs": [],
   "source": [
    "y_hat_sarima['sarima_forecast'] = np.exp(y_hat_sarima['sarima_forecast_boxcox'])"
   ]
  },
  {
   "cell_type": "code",
   "execution_count": 148,
   "id": "d617c5e5",
   "metadata": {},
   "outputs": [
    {
     "data": {
      "image/png": "[encoded data removed]",
      "text/plain": [
       "<Figure size 864x288 with 1 Axes>"
      ]
     },
     "metadata": {
      "needs_background": "light"
     },
     "output_type": "display_data"
    }
   ],
   "source": [
    "plt.figure(figsize=(12,4))\n",
    "plt.plot(train['Sales'], label='Train')\n",
    "plt.plot(test['Sales'], label='Test')\n",
    "plt.plot(y_hat_sarima['sarima_forecast'][test.index.min():], label='SARIMA Forecast')\n",
    "plt.legend(loc='best')\n",
    "plt.show()"
   ]
  },
  {
   "cell_type": "markdown",
   "id": "a788e081",
   "metadata": {},
   "source": [
    "# RMSE"
   ]
  },
  {
   "cell_type": "code",
   "execution_count": 149,
   "id": "561e94dd",
   "metadata": {},
   "outputs": [
    {
     "data": {
      "text/plain": [
       "205.96"
      ]
     },
     "execution_count": 149,
     "metadata": {},
     "output_type": "execute_result"
    }
   ],
   "source": [
    "rmse = np.sqrt(mean_squared_error(test['Sales'], y_hat_sarima['sarima_forecast'][test.index.min():])).round(2)\n",
    "rmse"
   ]
  },
  {
   "cell_type": "markdown",
   "id": "871094f8",
   "metadata": {},
   "source": [
    "# MAPE Score"
   ]
  },
  {
   "cell_type": "code",
   "execution_count": 150,
   "id": "7ef9c98b",
   "metadata": {},
   "outputs": [
    {
     "data": {
      "text/plain": [
       "3.95"
      ]
     },
     "execution_count": 150,
     "metadata": {},
     "output_type": "execute_result"
    }
   ],
   "source": [
    "mape = round(np.mean(np.abs((test['Sales'] - y_hat_sarima['sarima_forecast'][test.index.min():])/test['Sales'])*100),2)\n",
    "mape"
   ]
  },
  {
   "cell_type": "code",
   "execution_count": 151,
   "id": "f90e3b84",
   "metadata": {},
   "outputs": [
    {
     "data": {
      "text/html": [
       "<div>\n",
       "<style scoped>\n",
       "    .dataframe tbody tr th:only-of-type {\n",
       "        vertical-align: middle;\n",
       "    }\n",
       "\n",
       "    .dataframe tbody tr th {\n",
       "        vertical-align: top;\n",
       "    }\n",
       "\n",
       "    .dataframe thead th {\n",
       "        text-align: right;\n",
       "    }\n",
       "</style>\n",
       "<table border=\"1\" class=\"dataframe\">\n",
       "  <thead>\n",
       "    <tr style=\"text-align: right;\">\n",
       "      <th></th>\n",
       "      <th>Method</th>\n",
       "      <th>RMSE</th>\n",
       "      <th>MAPE</th>\n",
       "    </tr>\n",
       "  </thead>\n",
       "  <tbody>\n",
       "    <tr>\n",
       "      <th>0</th>\n",
       "      <td>Simple Average Method</td>\n",
       "      <td>1857.28</td>\n",
       "      <td>40.49</td>\n",
       "    </tr>\n",
       "    <tr>\n",
       "      <th>1</th>\n",
       "      <td>Simple moving average method</td>\n",
       "      <td>895.54</td>\n",
       "      <td>17.82</td>\n",
       "    </tr>\n",
       "    <tr>\n",
       "      <th>2</th>\n",
       "      <td>Simple exponential smoothing method</td>\n",
       "      <td>802.75</td>\n",
       "      <td>15.49</td>\n",
       "    </tr>\n",
       "    <tr>\n",
       "      <th>3</th>\n",
       "      <td>Holt's exponential smoothing method</td>\n",
       "      <td>516.39</td>\n",
       "      <td>8.94</td>\n",
       "    </tr>\n",
       "    <tr>\n",
       "      <th>4</th>\n",
       "      <td>Holt's Winter additive method</td>\n",
       "      <td>1147.28</td>\n",
       "      <td>22.93</td>\n",
       "    </tr>\n",
       "    <tr>\n",
       "      <th>5</th>\n",
       "      <td>Holt's Winter multiplicative method</td>\n",
       "      <td>86.29</td>\n",
       "      <td>1.68</td>\n",
       "    </tr>\n",
       "    <tr>\n",
       "      <th>6</th>\n",
       "      <td>Auto regressive (AR) method</td>\n",
       "      <td>1485.93</td>\n",
       "      <td>31.91</td>\n",
       "    </tr>\n",
       "    <tr>\n",
       "      <th>7</th>\n",
       "      <td>Moving average (MA) method</td>\n",
       "      <td>760.43</td>\n",
       "      <td>15.35</td>\n",
       "    </tr>\n",
       "    <tr>\n",
       "      <th>8</th>\n",
       "      <td>Auto regressive moving average (ARMA) method</td>\n",
       "      <td>1234.22</td>\n",
       "      <td>26.33</td>\n",
       "    </tr>\n",
       "    <tr>\n",
       "      <th>9</th>\n",
       "      <td>ARIMA method</td>\n",
       "      <td>1234.22</td>\n",
       "      <td>26.33</td>\n",
       "    </tr>\n",
       "    <tr>\n",
       "      <th>10</th>\n",
       "      <td>SARIMA method</td>\n",
       "      <td>205.96</td>\n",
       "      <td>3.95</td>\n",
       "    </tr>\n",
       "  </tbody>\n",
       "</table>\n",
       "</div>"
      ],
      "text/plain": [
       "                                          Method     RMSE   MAPE\n",
       "0                          Simple Average Method  1857.28  40.49\n",
       "1                   Simple moving average method   895.54  17.82\n",
       "2            Simple exponential smoothing method   802.75  15.49\n",
       "3            Holt's exponential smoothing method   516.39   8.94\n",
       "4                  Holt's Winter additive method  1147.28  22.93\n",
       "5            Holt's Winter multiplicative method    86.29   1.68\n",
       "6                    Auto regressive (AR) method  1485.93  31.91\n",
       "7                     Moving average (MA) method   760.43  15.35\n",
       "8   Auto regressive moving average (ARMA) method  1234.22  26.33\n",
       "9                                   ARIMA method  1234.22  26.33\n",
       "10                                 SARIMA method   205.96   3.95"
      ]
     },
     "execution_count": 151,
     "metadata": {},
     "output_type": "execute_result"
    }
   ],
   "source": [
    "results = results.append({'Method':'SARIMA method', 'RMSE':rmse, 'MAPE':mape}, ignore_index=True)\n",
    "results"
   ]
  },
  {
   "cell_type": "markdown",
   "id": "fe0b3eae",
   "metadata": {},
   "source": [
    "# Analysis\n",
    "We Can see SARIMA Model is having low RMSE and low mape score and this model is used for further forecasting"
   ]
  },
  {
   "cell_type": "code",
   "execution_count": null,
   "id": "c38bd3df",
   "metadata": {},
   "outputs": [],
   "source": []
  }
 ],
 "metadata": {
  "kernelspec": {
   "display_name": "Python 3",
   "language": "python",
   "name": "python3"
  },
  "language_info": {
   "codemirror_mode": {
    "name": "ipython",
    "version": 3
   },
   "file_extension": ".py",
   "mimetype": "text/x-python",
   "name": "python",
   "nbconvert_exporter": "python",
   "pygments_lexer": "ipython3",
   "version": "3.8.8"
  }
 },
 "nbformat": 4,
 "nbformat_minor": 5
}
